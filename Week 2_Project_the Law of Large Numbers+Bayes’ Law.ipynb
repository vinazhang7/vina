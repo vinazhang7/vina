{
 "cells": [
  {
   "cell_type": "code",
   "execution_count": 1,
   "metadata": {},
   "outputs": [],
   "source": [
    "import numpy as np\n",
    "import pandas as pd"
   ]
  },
  {
   "cell_type": "code",
   "execution_count": 2,
   "metadata": {},
   "outputs": [],
   "source": [
    "df=pd.read_excel('Module 2 Project_Project Performance_v2.xlsx')"
   ]
  },
  {
   "cell_type": "code",
   "execution_count": 3,
   "metadata": {},
   "outputs": [],
   "source": [
    "df=df[['PIP','Quality Score','Process Days','Project Cost']]"
   ]
  },
  {
   "cell_type": "code",
   "execution_count": 4,
   "metadata": {},
   "outputs": [
    {
     "data": {
      "text/html": [
       "<div>\n",
       "<style scoped>\n",
       "    .dataframe tbody tr th:only-of-type {\n",
       "        vertical-align: middle;\n",
       "    }\n",
       "\n",
       "    .dataframe tbody tr th {\n",
       "        vertical-align: top;\n",
       "    }\n",
       "\n",
       "    .dataframe thead th {\n",
       "        text-align: right;\n",
       "    }\n",
       "</style>\n",
       "<table border=\"1\" class=\"dataframe\">\n",
       "  <thead>\n",
       "    <tr style=\"text-align: right;\">\n",
       "      <th></th>\n",
       "      <th>PIP</th>\n",
       "      <th>Quality Score</th>\n",
       "      <th>Process Days</th>\n",
       "      <th>Project Cost</th>\n",
       "    </tr>\n",
       "  </thead>\n",
       "  <tbody>\n",
       "    <tr>\n",
       "      <th>0</th>\n",
       "      <td>1</td>\n",
       "      <td>144</td>\n",
       "      <td>10</td>\n",
       "      <td>299839</td>\n",
       "    </tr>\n",
       "    <tr>\n",
       "      <th>1</th>\n",
       "      <td>2</td>\n",
       "      <td>302</td>\n",
       "      <td>21</td>\n",
       "      <td>239108</td>\n",
       "    </tr>\n",
       "    <tr>\n",
       "      <th>2</th>\n",
       "      <td>3</td>\n",
       "      <td>357</td>\n",
       "      <td>10</td>\n",
       "      <td>222737</td>\n",
       "    </tr>\n",
       "    <tr>\n",
       "      <th>3</th>\n",
       "      <td>4</td>\n",
       "      <td>726</td>\n",
       "      <td>4</td>\n",
       "      <td>446830</td>\n",
       "    </tr>\n",
       "    <tr>\n",
       "      <th>4</th>\n",
       "      <td>5</td>\n",
       "      <td>468</td>\n",
       "      <td>9</td>\n",
       "      <td>122586</td>\n",
       "    </tr>\n",
       "    <tr>\n",
       "      <th>5</th>\n",
       "      <td>6</td>\n",
       "      <td>140</td>\n",
       "      <td>10</td>\n",
       "      <td>394960</td>\n",
       "    </tr>\n",
       "    <tr>\n",
       "      <th>6</th>\n",
       "      <td>7</td>\n",
       "      <td>656</td>\n",
       "      <td>22</td>\n",
       "      <td>366513</td>\n",
       "    </tr>\n",
       "    <tr>\n",
       "      <th>7</th>\n",
       "      <td>8</td>\n",
       "      <td>960</td>\n",
       "      <td>18</td>\n",
       "      <td>55461</td>\n",
       "    </tr>\n",
       "    <tr>\n",
       "      <th>8</th>\n",
       "      <td>9</td>\n",
       "      <td>876</td>\n",
       "      <td>8</td>\n",
       "      <td>138821</td>\n",
       "    </tr>\n",
       "    <tr>\n",
       "      <th>9</th>\n",
       "      <td>10</td>\n",
       "      <td>557</td>\n",
       "      <td>11</td>\n",
       "      <td>442224</td>\n",
       "    </tr>\n",
       "  </tbody>\n",
       "</table>\n",
       "</div>"
      ],
      "text/plain": [
       "   PIP  Quality Score  Process Days  Project Cost\n",
       "0    1            144            10        299839\n",
       "1    2            302            21        239108\n",
       "2    3            357            10        222737\n",
       "3    4            726             4        446830\n",
       "4    5            468             9        122586\n",
       "5    6            140            10        394960\n",
       "6    7            656            22        366513\n",
       "7    8            960            18         55461\n",
       "8    9            876             8        138821\n",
       "9   10            557            11        442224"
      ]
     },
     "execution_count": 4,
     "metadata": {},
     "output_type": "execute_result"
    }
   ],
   "source": [
    "df.head(10)"
   ]
  },
  {
   "cell_type": "markdown",
   "metadata": {},
   "source": [
    "## Part 1:\n",
    "**Calculate the missing values.**   "
   ]
  },
  {
   "cell_type": "code",
   "execution_count": 5,
   "metadata": {},
   "outputs": [
    {
     "data": {
      "text/plain": [
       "19"
      ]
     },
     "execution_count": 5,
     "metadata": {},
     "output_type": "execute_result"
    }
   ],
   "source": [
    "Qcount=df[df['Quality Score']> 600]['Quality Score'].count()\n",
    "Qcount"
   ]
  },
  {
   "cell_type": "code",
   "execution_count": 6,
   "metadata": {},
   "outputs": [
    {
     "data": {
      "text/plain": [
       "0.38"
      ]
     },
     "execution_count": 6,
     "metadata": {},
     "output_type": "execute_result"
    }
   ],
   "source": [
    "Qprobability=Qcount/df['Quality Score'].count()\n",
    "Qprobability"
   ]
  },
  {
   "cell_type": "code",
   "execution_count": 7,
   "metadata": {},
   "outputs": [
    {
     "data": {
      "text/plain": [
       "0.44"
      ]
     },
     "execution_count": 7,
     "metadata": {},
     "output_type": "execute_result"
    }
   ],
   "source": [
    "Scount=df[df['Process Days']<11]['Process Days'].count()\n",
    "Sprobability=Scount/df['Process Days'].count()\n",
    "Sprobability"
   ]
  },
  {
   "cell_type": "code",
   "execution_count": 8,
   "metadata": {},
   "outputs": [
    {
     "data": {
      "text/plain": [
       "0.4"
      ]
     },
     "execution_count": 8,
     "metadata": {},
     "output_type": "execute_result"
    }
   ],
   "source": [
    "Ccount=df[df['Project Cost']<193000]['Project Cost'].count()\n",
    "Cprobability=Ccount/df['Project Cost'].count()\n",
    "Cprobability"
   ]
  },
  {
   "cell_type": "code",
   "execution_count": 9,
   "metadata": {},
   "outputs": [
    {
     "data": {
      "text/html": [
       "<div>\n",
       "<style scoped>\n",
       "    .dataframe tbody tr th:only-of-type {\n",
       "        vertical-align: middle;\n",
       "    }\n",
       "\n",
       "    .dataframe tbody tr th {\n",
       "        vertical-align: top;\n",
       "    }\n",
       "\n",
       "    .dataframe thead th {\n",
       "        text-align: right;\n",
       "    }\n",
       "</style>\n",
       "<table border=\"1\" class=\"dataframe\">\n",
       "  <thead>\n",
       "    <tr style=\"text-align: right;\">\n",
       "      <th></th>\n",
       "      <th>Notation for the Probability</th>\n",
       "      <th>Count</th>\n",
       "      <th>Probability/Percentage</th>\n",
       "    </tr>\n",
       "  </thead>\n",
       "  <tbody>\n",
       "    <tr>\n",
       "      <th>0</th>\n",
       "      <td>P(Q)</td>\n",
       "      <td>19</td>\n",
       "      <td>0.38</td>\n",
       "    </tr>\n",
       "    <tr>\n",
       "      <th>1</th>\n",
       "      <td>P(S)</td>\n",
       "      <td>22</td>\n",
       "      <td>0.44</td>\n",
       "    </tr>\n",
       "    <tr>\n",
       "      <th>2</th>\n",
       "      <td>P(C)</td>\n",
       "      <td>20</td>\n",
       "      <td>0.40</td>\n",
       "    </tr>\n",
       "  </tbody>\n",
       "</table>\n",
       "</div>"
      ],
      "text/plain": [
       "  Notation for the Probability  Count  Probability/Percentage\n",
       "0                         P(Q)     19                    0.38\n",
       "1                         P(S)     22                    0.44\n",
       "2                         P(C)     20                    0.40"
      ]
     },
     "execution_count": 9,
     "metadata": {},
     "output_type": "execute_result"
    }
   ],
   "source": [
    "Table_1=pd.DataFrame({'Notation for the Probability':['P(Q)','P(S)','P(C)'],\n",
    "                      'Count':[Qcount,Scount,Ccount],\n",
    "                      'Probability/Percentage':[Qprobability,Sprobability,Cprobability]\n",
    "                     })\n",
    "Table_1"
   ]
  },
  {
   "cell_type": "markdown",
   "metadata": {},
   "source": [
    "## Part 2:\n",
    "**Calculate the missing values.**"
   ]
  },
  {
   "cell_type": "code",
   "execution_count": 10,
   "metadata": {},
   "outputs": [
    {
     "data": {
      "text/plain": [
       "8"
      ]
     },
     "execution_count": 10,
     "metadata": {},
     "output_type": "execute_result"
    }
   ],
   "source": [
    "P0_count=df[(df['Quality Score']<=600) & (df['Process Days']>=11) & (df['Project Cost']>=193000)]['PIP'].count()\n",
    "P0_count"
   ]
  },
  {
   "cell_type": "code",
   "execution_count": 11,
   "metadata": {},
   "outputs": [
    {
     "data": {
      "text/plain": [
       "0.16"
      ]
     },
     "execution_count": 11,
     "metadata": {},
     "output_type": "execute_result"
    }
   ],
   "source": [
    "PScore0=P0_count/df['PIP'].count()\n",
    "PScore0"
   ]
  },
  {
   "cell_type": "code",
   "execution_count": 12,
   "metadata": {},
   "outputs": [],
   "source": [
    "P1_count=df[(df['Quality Score']>600) & (df['Process Days']>=11) & (df['Project Cost']>=193000)]['PIP'].count()\n",
    "PScore1=P1_count/df['PIP'].count()"
   ]
  },
  {
   "cell_type": "code",
   "execution_count": 13,
   "metadata": {},
   "outputs": [],
   "source": [
    "P2_count=df[(df['Quality Score']<=600) & (df['Process Days']<11) & (df['Project Cost']>=193000)]['PIP'].count()\n",
    "PScore2=P2_count/df['PIP'].count()"
   ]
  },
  {
   "cell_type": "code",
   "execution_count": 14,
   "metadata": {},
   "outputs": [],
   "source": [
    "P3_count=df[(df['Quality Score']<=600) & (df['Process Days']>=11) & (df['Project Cost']<193000)]['PIP'].count()\n",
    "PScore3=P3_count/df['PIP'].count()"
   ]
  },
  {
   "cell_type": "code",
   "execution_count": 15,
   "metadata": {},
   "outputs": [],
   "source": [
    "P4_count=df[(df['Quality Score']>600) & (df['Process Days']<11) & (df['Project Cost']>=193000)]['PIP'].count()\n",
    "PScore4=P4_count/df['PIP'].count()"
   ]
  },
  {
   "cell_type": "code",
   "execution_count": 16,
   "metadata": {},
   "outputs": [
    {
     "data": {
      "text/plain": [
       "0.1"
      ]
     },
     "execution_count": 16,
     "metadata": {},
     "output_type": "execute_result"
    }
   ],
   "source": [
    "P5_count=df[(df['Quality Score']>600) & (df['Process Days']>=11) & (df['Project Cost']<193000)]['PIP'].count()\n",
    "PScore5=P5_count/df['PIP'].count()\n",
    "PScore5"
   ]
  },
  {
   "cell_type": "code",
   "execution_count": 17,
   "metadata": {},
   "outputs": [],
   "source": [
    "P6_count=df[(df['Quality Score']<=600) & (df['Process Days']<11) & (df['Project Cost']<193000)]['PIP'].count()\n",
    "PScore6=P6_count/df['PIP'].count()"
   ]
  },
  {
   "cell_type": "code",
   "execution_count": 18,
   "metadata": {},
   "outputs": [
    {
     "data": {
      "text/plain": [
       "0.06"
      ]
     },
     "execution_count": 18,
     "metadata": {},
     "output_type": "execute_result"
    }
   ],
   "source": [
    "P7_count=df[(df['Quality Score']>600) & (df['Process Days']<11) & (df['Project Cost']<193000)]['PIP'].count()\n",
    "PScore7=P7_count/df['PIP'].count()\n",
    "PScore7"
   ]
  },
  {
   "cell_type": "code",
   "execution_count": 19,
   "metadata": {},
   "outputs": [
    {
     "data": {
      "text/html": [
       "<div>\n",
       "<style scoped>\n",
       "    .dataframe tbody tr th:only-of-type {\n",
       "        vertical-align: middle;\n",
       "    }\n",
       "\n",
       "    .dataframe tbody tr th {\n",
       "        vertical-align: top;\n",
       "    }\n",
       "\n",
       "    .dataframe thead th {\n",
       "        text-align: right;\n",
       "    }\n",
       "</style>\n",
       "<table border=\"1\" class=\"dataframe\">\n",
       "  <thead>\n",
       "    <tr style=\"text-align: right;\">\n",
       "      <th></th>\n",
       "      <th>Notation for the Probability</th>\n",
       "      <th>Count</th>\n",
       "      <th>Probability/Percentage</th>\n",
       "    </tr>\n",
       "  </thead>\n",
       "  <tbody>\n",
       "    <tr>\n",
       "      <th>P(Score=0)</th>\n",
       "      <td>P( Q' ) * P( S' ) * P( C' )</td>\n",
       "      <td>8</td>\n",
       "      <td>0.16</td>\n",
       "    </tr>\n",
       "    <tr>\n",
       "      <th>P(Score=1)</th>\n",
       "      <td>P( Q ) * P( S' ) * P( C' )</td>\n",
       "      <td>8</td>\n",
       "      <td>0.16</td>\n",
       "    </tr>\n",
       "    <tr>\n",
       "      <th>P(Score=2)</th>\n",
       "      <td>P( Q' ) * P( S ) * P( C' )</td>\n",
       "      <td>11</td>\n",
       "      <td>0.22</td>\n",
       "    </tr>\n",
       "    <tr>\n",
       "      <th>P(Score=3)</th>\n",
       "      <td>P( Q' ) * P( S' ) * P( C )</td>\n",
       "      <td>7</td>\n",
       "      <td>0.14</td>\n",
       "    </tr>\n",
       "    <tr>\n",
       "      <th>P(Score=4)</th>\n",
       "      <td>P( Q ) * P( S ) * P( C' )</td>\n",
       "      <td>3</td>\n",
       "      <td>0.06</td>\n",
       "    </tr>\n",
       "    <tr>\n",
       "      <th>P(Score=5)</th>\n",
       "      <td>P( Q ) * P( S' ) * P( C )</td>\n",
       "      <td>5</td>\n",
       "      <td>0.10</td>\n",
       "    </tr>\n",
       "    <tr>\n",
       "      <th>P(Score=6)</th>\n",
       "      <td>P( Q' ) * P( S ) * P( C )</td>\n",
       "      <td>5</td>\n",
       "      <td>0.10</td>\n",
       "    </tr>\n",
       "    <tr>\n",
       "      <th>P(Score=7)</th>\n",
       "      <td>P( Q ) * P( S ) * P( C )</td>\n",
       "      <td>3</td>\n",
       "      <td>0.06</td>\n",
       "    </tr>\n",
       "  </tbody>\n",
       "</table>\n",
       "</div>"
      ],
      "text/plain": [
       "           Notation for the Probability  Count  Probability/Percentage\n",
       "P(Score=0)  P( Q' ) * P( S' ) * P( C' )      8                    0.16\n",
       "P(Score=1)   P( Q ) * P( S' ) * P( C' )      8                    0.16\n",
       "P(Score=2)   P( Q' ) * P( S ) * P( C' )     11                    0.22\n",
       "P(Score=3)   P( Q' ) * P( S' ) * P( C )      7                    0.14\n",
       "P(Score=4)    P( Q ) * P( S ) * P( C' )      3                    0.06\n",
       "P(Score=5)    P( Q ) * P( S' ) * P( C )      5                    0.10\n",
       "P(Score=6)    P( Q' ) * P( S ) * P( C )      5                    0.10\n",
       "P(Score=7)     P( Q ) * P( S ) * P( C )      3                    0.06"
      ]
     },
     "execution_count": 19,
     "metadata": {},
     "output_type": "execute_result"
    }
   ],
   "source": [
    "Table_2=pd.DataFrame({'Notation for the Probability':[\"P( Q' ) * P( S' ) * P( C' )\",\"P( Q ) * P( S' ) * P( C' )\",\n",
    "                                                      \"P( Q' ) * P( S ) * P( C' )\",\n",
    "                                                      \"P( Q' ) * P( S' ) * P( C )\",\"P( Q ) * P( S ) * P( C' )\",\n",
    "                                                      \"P( Q ) * P( S' ) * P( C )\",\"P( Q' ) * P( S ) * P( C )\",\n",
    "                                                     \"P( Q ) * P( S ) * P( C )\"],\n",
    "                      'Count':[P0_count,P1_count,P2_count,P3_count,P4_count,P5_count,P6_count,P7_count],\n",
    "                      'Probability/Percentage':[PScore0,PScore1,PScore2,PScore3,\n",
    "                                                PScore4,PScore5,PScore6,PScore7]\n",
    "                     },\n",
    "                    index=['P(Score=0)','P(Score=1)','P(Score=2)',\n",
    "                           'P(Score=3)','P(Score=4)','P(Score=5)',\n",
    "                           'P(Score=6)','P(Score=7)'])\n",
    "Table_2"
   ]
  },
  {
   "cell_type": "markdown",
   "metadata": {},
   "source": [
    "## Part 4 "
   ]
  },
  {
   "cell_type": "markdown",
   "metadata": {},
   "source": [
    "**a) Of those who satisfied Speed, what percentage also satisfied Quality?**"
   ]
  },
  {
   "cell_type": "code",
   "execution_count": 20,
   "metadata": {},
   "outputs": [
    {
     "data": {
      "text/plain": [
       "0.3"
      ]
     },
     "execution_count": 20,
     "metadata": {},
     "output_type": "execute_result"
    }
   ],
   "source": [
    "answer_a=(PScore4+PScore7)/Cprobability\n",
    "answer_a"
   ]
  },
  {
   "cell_type": "code",
   "execution_count": 21,
   "metadata": {},
   "outputs": [
    {
     "data": {
      "text/plain": [
       "6"
      ]
     },
     "execution_count": 21,
     "metadata": {},
     "output_type": "execute_result"
    }
   ],
   "source": [
    "count_a=P4_count+P7_count\n",
    "count_a"
   ]
  },
  {
   "cell_type": "markdown",
   "metadata": {},
   "source": [
    "**b) Of those who satisfied Quality, what percentage also satisfied Cost?**"
   ]
  },
  {
   "cell_type": "code",
   "execution_count": 22,
   "metadata": {},
   "outputs": [
    {
     "data": {
      "text/plain": [
       "0.42105263157894735"
      ]
     },
     "execution_count": 22,
     "metadata": {},
     "output_type": "execute_result"
    }
   ],
   "source": [
    "answer_b=(PScore5+PScore7)/Qprobability\n",
    "answer_b"
   ]
  },
  {
   "cell_type": "code",
   "execution_count": 23,
   "metadata": {},
   "outputs": [
    {
     "data": {
      "text/plain": [
       "8"
      ]
     },
     "execution_count": 23,
     "metadata": {},
     "output_type": "execute_result"
    }
   ],
   "source": [
    "count_b=P5_count+P7_count\n",
    "count_b"
   ]
  },
  {
   "cell_type": "markdown",
   "metadata": {},
   "source": [
    "**c) Of those who satisfied Speed, what percentage also satisfied Quality but did not satisfy the Cost?**"
   ]
  },
  {
   "cell_type": "code",
   "execution_count": 24,
   "metadata": {},
   "outputs": [
    {
     "data": {
      "text/plain": [
       "0.15"
      ]
     },
     "execution_count": 24,
     "metadata": {},
     "output_type": "execute_result"
    }
   ],
   "source": [
    "answer_c=PScore4/Cprobability\n",
    "answer_c"
   ]
  },
  {
   "cell_type": "code",
   "execution_count": 25,
   "metadata": {},
   "outputs": [
    {
     "data": {
      "text/plain": [
       "3"
      ]
     },
     "execution_count": 25,
     "metadata": {},
     "output_type": "execute_result"
    }
   ],
   "source": [
    "count_c=P4_count\n",
    "count_c"
   ]
  },
  {
   "cell_type": "markdown",
   "metadata": {},
   "source": [
    "**d) Of those who satisfied Cost, what percentage also satisfied Quality but did not satisfy the Speed?**"
   ]
  },
  {
   "cell_type": "code",
   "execution_count": 26,
   "metadata": {},
   "outputs": [
    {
     "data": {
      "text/plain": [
       "0.2272727272727273"
      ]
     },
     "execution_count": 26,
     "metadata": {},
     "output_type": "execute_result"
    }
   ],
   "source": [
    "answer_d=PScore5/Sprobability\n",
    "answer_d"
   ]
  },
  {
   "cell_type": "code",
   "execution_count": 27,
   "metadata": {},
   "outputs": [
    {
     "data": {
      "text/plain": [
       "5"
      ]
     },
     "execution_count": 27,
     "metadata": {},
     "output_type": "execute_result"
    }
   ],
   "source": [
    "count_d=P5_count\n",
    "count_d"
   ]
  },
  {
   "cell_type": "markdown",
   "metadata": {},
   "source": [
    "**e) Of those who did not satisfy Cost, what percentage satisfied Quality and Speed?**"
   ]
  },
  {
   "cell_type": "code",
   "execution_count": 28,
   "metadata": {},
   "outputs": [
    {
     "data": {
      "text/plain": [
       "0.10714285714285712"
      ]
     },
     "execution_count": 28,
     "metadata": {},
     "output_type": "execute_result"
    }
   ],
   "source": [
    "answer_e=PScore4/(1-Sprobability)\n",
    "answer_e"
   ]
  },
  {
   "cell_type": "code",
   "execution_count": 29,
   "metadata": {},
   "outputs": [
    {
     "data": {
      "text/plain": [
       "3"
      ]
     },
     "execution_count": 29,
     "metadata": {},
     "output_type": "execute_result"
    }
   ],
   "source": [
    "count_e=P4_count\n",
    "count_e"
   ]
  },
  {
   "cell_type": "markdown",
   "metadata": {},
   "source": [
    "**f) What percentage satisfied exactly one of the three criteria?**"
   ]
  },
  {
   "cell_type": "code",
   "execution_count": 30,
   "metadata": {},
   "outputs": [
    {
     "data": {
      "text/plain": [
       "0.52"
      ]
     },
     "execution_count": 30,
     "metadata": {},
     "output_type": "execute_result"
    }
   ],
   "source": [
    "answer_f=PScore1+PScore2+PScore3\n",
    "answer_f"
   ]
  },
  {
   "cell_type": "code",
   "execution_count": 31,
   "metadata": {},
   "outputs": [
    {
     "data": {
      "text/plain": [
       "26"
      ]
     },
     "execution_count": 31,
     "metadata": {},
     "output_type": "execute_result"
    }
   ],
   "source": [
    "count_f=P1_count+P2_count+P3_count\n",
    "count_f"
   ]
  },
  {
   "cell_type": "markdown",
   "metadata": {},
   "source": [
    "**g) Of those who satisfied at least two of the three criteria, what percentage satisfied exactly two criteria?**"
   ]
  },
  {
   "cell_type": "code",
   "execution_count": 32,
   "metadata": {},
   "outputs": [
    {
     "data": {
      "text/plain": [
       "0.8125"
      ]
     },
     "execution_count": 32,
     "metadata": {},
     "output_type": "execute_result"
    }
   ],
   "source": [
    "answer_g=(PScore4+PScore5+PScore6)/(PScore4+PScore5+PScore6+PScore7)\n",
    "answer_g"
   ]
  },
  {
   "cell_type": "code",
   "execution_count": 33,
   "metadata": {},
   "outputs": [
    {
     "data": {
      "text/plain": [
       "13"
      ]
     },
     "execution_count": 33,
     "metadata": {},
     "output_type": "execute_result"
    }
   ],
   "source": [
    "count_g=P4_count+P5_count+P6_count\n",
    "count_g"
   ]
  },
  {
   "cell_type": "markdown",
   "metadata": {},
   "source": [
    "**h) Of those who did not satisfy Cost, what percentage satisfied the Quality criterion?**"
   ]
  },
  {
   "cell_type": "code",
   "execution_count": 34,
   "metadata": {},
   "outputs": [
    {
     "data": {
      "text/plain": [
       "0.6333333333333334"
      ]
     },
     "execution_count": 34,
     "metadata": {},
     "output_type": "execute_result"
    }
   ],
   "source": [
    "answer_h=(PScore1+PScore2)/(1-Cprobability)\n",
    "answer_h"
   ]
  },
  {
   "cell_type": "code",
   "execution_count": 35,
   "metadata": {},
   "outputs": [
    {
     "data": {
      "text/plain": [
       "19"
      ]
     },
     "execution_count": 35,
     "metadata": {},
     "output_type": "execute_result"
    }
   ],
   "source": [
    "count_h=P1_count+P2_count\n",
    "count_h"
   ]
  },
  {
   "cell_type": "code",
   "execution_count": 43,
   "metadata": {},
   "outputs": [
    {
     "data": {
      "text/html": [
       "<div>\n",
       "<style scoped>\n",
       "    .dataframe tbody tr th:only-of-type {\n",
       "        vertical-align: middle;\n",
       "    }\n",
       "\n",
       "    .dataframe tbody tr th {\n",
       "        vertical-align: top;\n",
       "    }\n",
       "\n",
       "    .dataframe thead th {\n",
       "        text-align: right;\n",
       "    }\n",
       "</style>\n",
       "<table border=\"1\" class=\"dataframe\">\n",
       "  <thead>\n",
       "    <tr style=\"text-align: right;\">\n",
       "      <th></th>\n",
       "      <th>Notation for the Probability</th>\n",
       "      <th>Count</th>\n",
       "      <th>Probability/Percentage</th>\n",
       "    </tr>\n",
       "  </thead>\n",
       "  <tbody>\n",
       "    <tr>\n",
       "      <th>P( a )</th>\n",
       "      <td>[ P(Score=4) + P(Score=7) ] / P( C )</td>\n",
       "      <td>6</td>\n",
       "      <td>0.3000</td>\n",
       "    </tr>\n",
       "    <tr>\n",
       "      <th>P( b )</th>\n",
       "      <td>[ P(Score=5) + P(Score=7) ] / P( Q )</td>\n",
       "      <td>8</td>\n",
       "      <td>0.4211</td>\n",
       "    </tr>\n",
       "    <tr>\n",
       "      <th>P( c )</th>\n",
       "      <td>P(Score=4) / P( C )</td>\n",
       "      <td>3</td>\n",
       "      <td>0.1500</td>\n",
       "    </tr>\n",
       "    <tr>\n",
       "      <th>P( d )</th>\n",
       "      <td>P(Score=5) / P( S )</td>\n",
       "      <td>5</td>\n",
       "      <td>0.2273</td>\n",
       "    </tr>\n",
       "    <tr>\n",
       "      <th>P( e )</th>\n",
       "      <td>P(Score=4) / P( S' )</td>\n",
       "      <td>3</td>\n",
       "      <td>0.1071</td>\n",
       "    </tr>\n",
       "    <tr>\n",
       "      <th>P( f )</th>\n",
       "      <td>P(Score=1)+P(Score=2)+P(Score=3)</td>\n",
       "      <td>26</td>\n",
       "      <td>0.5200</td>\n",
       "    </tr>\n",
       "    <tr>\n",
       "      <th>P( g )</th>\n",
       "      <td>[ P(Score=4)+P(Score=5)+P(Score=6) ]/ [ P(Score=4]+P(Score=5)+P(Score=6)+P(Score=7) ]</td>\n",
       "      <td>13</td>\n",
       "      <td>0.8125</td>\n",
       "    </tr>\n",
       "    <tr>\n",
       "      <th>P( h )</th>\n",
       "      <td>[P(Score=1) + P(Score=2)] / P( C' )</td>\n",
       "      <td>19</td>\n",
       "      <td>0.6333</td>\n",
       "    </tr>\n",
       "  </tbody>\n",
       "</table>\n",
       "</div>"
      ],
      "text/plain": [
       "                                                                 Notation for the Probability  \\\n",
       "P( a )                                                   [ P(Score=4) + P(Score=7) ] / P( C )   \n",
       "P( b )                                                   [ P(Score=5) + P(Score=7) ] / P( Q )   \n",
       "P( c )                                                                    P(Score=4) / P( C )   \n",
       "P( d )                                                                    P(Score=5) / P( S )   \n",
       "P( e )                                                                   P(Score=4) / P( S' )   \n",
       "P( f )                                                       P(Score=1)+P(Score=2)+P(Score=3)   \n",
       "P( g )  [ P(Score=4)+P(Score=5)+P(Score=6) ]/ [ P(Score=4]+P(Score=5)+P(Score=6)+P(Score=7) ]   \n",
       "P( h )                                                    [P(Score=1) + P(Score=2)] / P( C' )   \n",
       "\n",
       "        Count Probability/Percentage  \n",
       "P( a )      6                 0.3000  \n",
       "P( b )      8                 0.4211  \n",
       "P( c )      3                 0.1500  \n",
       "P( d )      5                 0.2273  \n",
       "P( e )      3                 0.1071  \n",
       "P( f )     26                 0.5200  \n",
       "P( g )     13                 0.8125  \n",
       "P( h )     19                 0.6333  "
      ]
     },
     "execution_count": 43,
     "metadata": {},
     "output_type": "execute_result"
    }
   ],
   "source": [
    "Table_3=pd.DataFrame({'Notation for the Probability':[\"[ P(Score=4) + P(Score=7) ] / P( C )\",\n",
    "                                                      \"[ P(Score=5) + P(Score=7) ] / P( Q )\",\n",
    "                                                      \"P(Score=4) / P( C )\",\n",
    "                                                      \"P(Score=5) / P( S )\",\n",
    "                                                      \"P(Score=4) / P( S' )\",\n",
    "                                                      \"P(Score=1)+P(Score=2)+P(Score=3)\",\n",
    "                                                      \"[ P(Score=4)+P(Score=5)+P(Score=6) ]/ \"\\\n",
    "                                                      \"[ P(Score=4]+P(Score=5)+P(Score=6)+P(Score=7) ]\",\n",
    "                                                      \"[P(Score=1) + P(Score=2)] / P( C' )\"],\n",
    "                      'Count':[count_a,count_b,count_c,count_d,count_e,count_f,count_g,count_h],\n",
    "                      'Probability/Percentage':[format(answer_a,'.4f'),format(answer_b,'.4f'),\n",
    "                                                format(answer_c,'.4f'),format(answer_d,'.4f'),\n",
    "                                                format(answer_e,'.4f'),format(answer_f,'.4f'),\n",
    "                                                format(answer_g,'.4f'),format(answer_h,'.4f')]\n",
    "                     },\n",
    "                    index=['P( a )','P( b )','P( c )','P( d )','P( e )','P( f )','P( g )','P( h )'])\n",
    "\n",
    "pd.set_option('max_colwidth',100)\n",
    "Table_3"
   ]
  }
 ],
 "metadata": {
  "kernelspec": {
   "display_name": "Python 3",
   "language": "python",
   "name": "python3"
  },
  "language_info": {
   "codemirror_mode": {
    "name": "ipython",
    "version": 3
   },
   "file_extension": ".py",
   "mimetype": "text/x-python",
   "name": "python",
   "nbconvert_exporter": "python",
   "pygments_lexer": "ipython3",
   "version": "3.7.4"
  }
 },
 "nbformat": 4,
 "nbformat_minor": 2
}
