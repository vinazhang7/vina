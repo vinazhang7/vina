{
 "cells": [
  {
   "cell_type": "code",
   "execution_count": 252,
   "metadata": {},
   "outputs": [],
   "source": [
    "import numpy as np\n",
    "import pandas as pd\n",
    "import matplotlib\n",
    "import math\n",
    "from scipy import stats\n",
    "from scipy.stats import hypergeom\n",
    "from matplotlib.ticker import FuncFormatter\n",
    "from scipy.stats import uniform\n",
    "\n",
    "import seaborn as sns\n",
    "import matplotlib.pyplot as plt"
   ]
  },
  {
   "cell_type": "markdown",
   "metadata": {},
   "source": [
    "# Part 1"
   ]
  },
  {
   "cell_type": "markdown",
   "metadata": {},
   "source": [
    "**a. Construct a tabular probability distribution for X.**"
   ]
  },
  {
   "cell_type": "code",
   "execution_count": 253,
   "metadata": {},
   "outputs": [],
   "source": [
    "nums=[0,1,2,3,4,5,6,7,8,9,10,11,12,13,14,15,16,17,18,19,20]"
   ]
  },
  {
   "cell_type": "code",
   "execution_count": 302,
   "metadata": {},
   "outputs": [
    {
     "data": {
      "text/html": [
       "<div>\n",
       "<style scoped>\n",
       "    .dataframe tbody tr th:only-of-type {\n",
       "        vertical-align: middle;\n",
       "    }\n",
       "\n",
       "    .dataframe tbody tr th {\n",
       "        vertical-align: top;\n",
       "    }\n",
       "\n",
       "    .dataframe thead th {\n",
       "        text-align: right;\n",
       "    }\n",
       "</style>\n",
       "<table border=\"1\" class=\"dataframe\">\n",
       "  <thead>\n",
       "    <tr style=\"text-align: right;\">\n",
       "      <th></th>\n",
       "      <th>P(X=x)</th>\n",
       "    </tr>\n",
       "    <tr>\n",
       "      <th>x-Number of Matches</th>\n",
       "      <th></th>\n",
       "    </tr>\n",
       "  </thead>\n",
       "  <tbody>\n",
       "    <tr>\n",
       "      <th>0</th>\n",
       "      <td>0.003175</td>\n",
       "    </tr>\n",
       "    <tr>\n",
       "      <th>1</th>\n",
       "      <td>0.024905</td>\n",
       "    </tr>\n",
       "    <tr>\n",
       "      <th>2</th>\n",
       "      <td>0.086450</td>\n",
       "    </tr>\n",
       "    <tr>\n",
       "      <th>3</th>\n",
       "      <td>0.176161</td>\n",
       "    </tr>\n",
       "    <tr>\n",
       "      <th>4</th>\n",
       "      <td>0.235698</td>\n",
       "    </tr>\n",
       "  </tbody>\n",
       "</table>\n",
       "</div>"
      ],
      "text/plain": [
       "                       P(X=x)\n",
       "x-Number of Matches          \n",
       "0                    0.003175\n",
       "1                    0.024905\n",
       "2                    0.086450\n",
       "3                    0.176161\n",
       "4                    0.235698"
      ]
     },
     "execution_count": 302,
     "metadata": {},
     "output_type": "execute_result"
    }
   ],
   "source": [
    "def nCr(n,r):\n",
    "    f=math.factorial\n",
    "    return f(n)/(f(r)*f(n-r))\n",
    "\n",
    "N,k,n=90,20,20\n",
    "res_a=[]\n",
    "\n",
    "for num in nums:\n",
    "    temp=nCr(k,num)*nCr(N-k,n-num)/nCr(N,n)\n",
    "    res_a.append(round(temp,6))\n",
    "\n",
    "df_a=pd.DataFrame({'x-Number of Matches':nums,\n",
    "                  'P(X=x)':res_a})\n",
    "df_a.set_index('x-Number of Matches',inplace=True)\n",
    "df_a.head()"
   ]
  },
  {
   "cell_type": "markdown",
   "metadata": {},
   "source": [
    "**b. Construct a tabular cumulative probability distribution for X.**"
   ]
  },
  {
   "cell_type": "code",
   "execution_count": 303,
   "metadata": {},
   "outputs": [
    {
     "data": {
      "text/html": [
       "<div>\n",
       "<style scoped>\n",
       "    .dataframe tbody tr th:only-of-type {\n",
       "        vertical-align: middle;\n",
       "    }\n",
       "\n",
       "    .dataframe tbody tr th {\n",
       "        vertical-align: top;\n",
       "    }\n",
       "\n",
       "    .dataframe thead th {\n",
       "        text-align: right;\n",
       "    }\n",
       "</style>\n",
       "<table border=\"1\" class=\"dataframe\">\n",
       "  <thead>\n",
       "    <tr style=\"text-align: right;\">\n",
       "      <th></th>\n",
       "      <th>P(X=x)</th>\n",
       "      <th>P(X≤x)</th>\n",
       "    </tr>\n",
       "    <tr>\n",
       "      <th>x-Number of Matches</th>\n",
       "      <th></th>\n",
       "      <th></th>\n",
       "    </tr>\n",
       "  </thead>\n",
       "  <tbody>\n",
       "    <tr>\n",
       "      <th>0</th>\n",
       "      <td>0.003175</td>\n",
       "      <td>0.003175</td>\n",
       "    </tr>\n",
       "    <tr>\n",
       "      <th>1</th>\n",
       "      <td>0.024905</td>\n",
       "      <td>0.028080</td>\n",
       "    </tr>\n",
       "    <tr>\n",
       "      <th>2</th>\n",
       "      <td>0.086450</td>\n",
       "      <td>0.114530</td>\n",
       "    </tr>\n",
       "    <tr>\n",
       "      <th>3</th>\n",
       "      <td>0.176161</td>\n",
       "      <td>0.290691</td>\n",
       "    </tr>\n",
       "    <tr>\n",
       "      <th>4</th>\n",
       "      <td>0.235698</td>\n",
       "      <td>0.526389</td>\n",
       "    </tr>\n",
       "  </tbody>\n",
       "</table>\n",
       "</div>"
      ],
      "text/plain": [
       "                       P(X=x)    P(X≤x)\n",
       "x-Number of Matches                    \n",
       "0                    0.003175  0.003175\n",
       "1                    0.024905  0.028080\n",
       "2                    0.086450  0.114530\n",
       "3                    0.176161  0.290691\n",
       "4                    0.235698  0.526389"
      ]
     },
     "execution_count": 303,
     "metadata": {},
     "output_type": "execute_result"
    }
   ],
   "source": [
    "res_b=[res_a[0]]\n",
    "temp=res_a[0]\n",
    "for i in range(1,len(res_a)):\n",
    "    temp+=res_a[i]\n",
    "    res_b.append(temp)\n",
    "    \n",
    "df_b=pd.DataFrame({'x-Number of Matches':nums,\n",
    "                  'P(X=x)':res_a,\n",
    "                  'P(X≤x)':res_b})\n",
    "df_b.set_index('x-Number of Matches',inplace=True)\n",
    "df_b.head()"
   ]
  },
  {
   "cell_type": "markdown",
   "metadata": {},
   "source": [
    "**c. Create a graphical probability distribution for X.**"
   ]
  },
  {
   "cell_type": "code",
   "execution_count": 209,
   "metadata": {},
   "outputs": [
    {
     "data": {
      "image/png": "[encoded data removed]",
      "text/plain": [
       "<Figure size 864x432 with 1 Axes>"
      ]
     },
     "metadata": {
      "needs_background": "light"
     },
     "output_type": "display_data"
    }
   ],
   "source": [
    "df_a['P(X=x)'].plot(kind='bar',figsize=(12,6))\n",
    "plt.ylabel('Probabilities')\n",
    "plt.grid(axis='y',alpha=0.5)"
   ]
  },
  {
   "cell_type": "markdown",
   "metadata": {},
   "source": [
    "**d. Create a graphical cumulative probability distribution for X.**"
   ]
  },
  {
   "cell_type": "code",
   "execution_count": 210,
   "metadata": {},
   "outputs": [
    {
     "data": {
      "image/png": "[encoded data removed]",
      "text/plain": [
       "<Figure size 864x432 with 1 Axes>"
      ]
     },
     "metadata": {
      "needs_background": "light"
     },
     "output_type": "display_data"
    }
   ],
   "source": [
    "df_b['P(X≤x)'].plot(figsize=(12,6))\n",
    "plt.ylabel('Probabilities')\n",
    "plt.grid(axis='y',alpha=0.5)"
   ]
  },
  {
   "cell_type": "markdown",
   "metadata": {},
   "source": [
    "**e. Calculate the theoretical expected value (mean), the theoretical variance, and the theoretical standard deviation of X in the spaces provided for those quantities. Interpret those values in your Word report.**"
   ]
  },
  {
   "cell_type": "code",
   "execution_count": 304,
   "metadata": {},
   "outputs": [],
   "source": [
    "mean=0\n",
    "i=0\n",
    "for p in df_a['P(X=x)']:\n",
    "    mean+=p*i\n",
    "    i+=1\n",
    "\n",
    "i=0\n",
    "sum=0\n",
    "for p in df_a['P(X=x)']:\n",
    "    sum+=(i**2)*p\n",
    "    i+=1\n",
    "variance=sum-mean**2\n",
    "\n",
    "sd=variance**0.5"
   ]
  },
  {
   "cell_type": "code",
   "execution_count": 305,
   "metadata": {},
   "outputs": [
    {
     "data": {
      "text/html": [
       "<div>\n",
       "<style scoped>\n",
       "    .dataframe tbody tr th:only-of-type {\n",
       "        vertical-align: middle;\n",
       "    }\n",
       "\n",
       "    .dataframe tbody tr th {\n",
       "        vertical-align: top;\n",
       "    }\n",
       "\n",
       "    .dataframe thead th {\n",
       "        text-align: right;\n",
       "    }\n",
       "</style>\n",
       "<table border=\"1\" class=\"dataframe\">\n",
       "  <thead>\n",
       "    <tr style=\"text-align: right;\">\n",
       "      <th></th>\n",
       "      <th>Theoretical</th>\n",
       "    </tr>\n",
       "  </thead>\n",
       "  <tbody>\n",
       "    <tr>\n",
       "      <th>Expected Value of X</th>\n",
       "      <td>4.444439</td>\n",
       "    </tr>\n",
       "    <tr>\n",
       "      <th>Variance of X</th>\n",
       "      <td>2.718817</td>\n",
       "    </tr>\n",
       "    <tr>\n",
       "      <th>SD of X</th>\n",
       "      <td>1.648884</td>\n",
       "    </tr>\n",
       "  </tbody>\n",
       "</table>\n",
       "</div>"
      ],
      "text/plain": [
       "                     Theoretical\n",
       "Expected Value of X     4.444439\n",
       "Variance of X           2.718817\n",
       "SD of X                 1.648884"
      ]
     },
     "execution_count": 305,
     "metadata": {},
     "output_type": "execute_result"
    }
   ],
   "source": [
    "df_e=pd.DataFrame({'Theoretical':[round(mean,6),round(variance,6),round(sd,6)]},\n",
    "                   index=['Expected Value of X','Variance of X','SD of X'])\n",
    "\n",
    "df_e"
   ]
  },
  {
   "cell_type": "markdown",
   "metadata": {},
   "source": [
    "**f. Generate 1000 random values according to the standard uniform probability distribution.**"
   ]
  },
  {
   "cell_type": "code",
   "execution_count": 306,
   "metadata": {},
   "outputs": [
    {
     "data": {
      "text/html": [
       "<div>\n",
       "<style scoped>\n",
       "    .dataframe tbody tr th:only-of-type {\n",
       "        vertical-align: middle;\n",
       "    }\n",
       "\n",
       "    .dataframe tbody tr th {\n",
       "        vertical-align: top;\n",
       "    }\n",
       "\n",
       "    .dataframe thead th {\n",
       "        text-align: right;\n",
       "    }\n",
       "</style>\n",
       "<table border=\"1\" class=\"dataframe\">\n",
       "  <thead>\n",
       "    <tr style=\"text-align: right;\">\n",
       "      <th></th>\n",
       "      <th>R-Standard Uniform</th>\n",
       "    </tr>\n",
       "  </thead>\n",
       "  <tbody>\n",
       "    <tr>\n",
       "      <th>0</th>\n",
       "      <td>0.252931</td>\n",
       "    </tr>\n",
       "    <tr>\n",
       "      <th>1</th>\n",
       "      <td>0.453770</td>\n",
       "    </tr>\n",
       "    <tr>\n",
       "      <th>2</th>\n",
       "      <td>0.369893</td>\n",
       "    </tr>\n",
       "    <tr>\n",
       "      <th>3</th>\n",
       "      <td>0.611509</td>\n",
       "    </tr>\n",
       "    <tr>\n",
       "      <th>4</th>\n",
       "      <td>0.181205</td>\n",
       "    </tr>\n",
       "  </tbody>\n",
       "</table>\n",
       "</div>"
      ],
      "text/plain": [
       "   R-Standard Uniform\n",
       "0            0.252931\n",
       "1            0.453770\n",
       "2            0.369893\n",
       "3            0.611509\n",
       "4            0.181205"
      ]
     },
     "execution_count": 306,
     "metadata": {},
     "output_type": "execute_result"
    }
   ],
   "source": [
    "data_uniform = uniform.rvs(size=1000,loc=0,scale=1)\n",
    "    \n",
    "df_f=pd.DataFrame({'R-Standard Uniform':data_uniform})\n",
    "df_f.head()"
   ]
  },
  {
   "cell_type": "markdown",
   "metadata": {},
   "source": [
    "**g. Use the available tabular cumulative distribution of part (b) to randomly generate 1000 values of X according to the described Hyper-geometric probability distribution.**"
   ]
  },
  {
   "cell_type": "code",
   "execution_count": 307,
   "metadata": {},
   "outputs": [],
   "source": [
    "N,k,n=90,20,20\n",
    "simulated_x=[]\n",
    "for i in range(1000):\n",
    "    simulated_x.append(hypergeom.ppf(np.random.choice(df_b['P(X≤x)']), N, n, k, loc=0))\n"
   ]
  },
  {
   "cell_type": "code",
   "execution_count": 308,
   "metadata": {},
   "outputs": [
    {
     "data": {
      "text/html": [
       "<div>\n",
       "<style scoped>\n",
       "    .dataframe tbody tr th:only-of-type {\n",
       "        vertical-align: middle;\n",
       "    }\n",
       "\n",
       "    .dataframe tbody tr th {\n",
       "        vertical-align: top;\n",
       "    }\n",
       "\n",
       "    .dataframe thead th {\n",
       "        text-align: right;\n",
       "    }\n",
       "</style>\n",
       "<table border=\"1\" class=\"dataframe\">\n",
       "  <thead>\n",
       "    <tr style=\"text-align: right;\">\n",
       "      <th></th>\n",
       "      <th>R-Standard Uniform</th>\n",
       "      <th>Simulated x</th>\n",
       "    </tr>\n",
       "  </thead>\n",
       "  <tbody>\n",
       "    <tr>\n",
       "      <th>0</th>\n",
       "      <td>0.880190</td>\n",
       "      <td>13.0</td>\n",
       "    </tr>\n",
       "    <tr>\n",
       "      <th>1</th>\n",
       "      <td>0.136561</td>\n",
       "      <td>12.0</td>\n",
       "    </tr>\n",
       "    <tr>\n",
       "      <th>2</th>\n",
       "      <td>0.106972</td>\n",
       "      <td>13.0</td>\n",
       "    </tr>\n",
       "    <tr>\n",
       "      <th>3</th>\n",
       "      <td>0.729245</td>\n",
       "      <td>13.0</td>\n",
       "    </tr>\n",
       "    <tr>\n",
       "      <th>4</th>\n",
       "      <td>0.323914</td>\n",
       "      <td>6.0</td>\n",
       "    </tr>\n",
       "  </tbody>\n",
       "</table>\n",
       "</div>"
      ],
      "text/plain": [
       "   R-Standard Uniform  Simulated x\n",
       "0            0.880190         13.0\n",
       "1            0.136561         12.0\n",
       "2            0.106972         13.0\n",
       "3            0.729245         13.0\n",
       "4            0.323914          6.0"
      ]
     },
     "execution_count": 308,
     "metadata": {},
     "output_type": "execute_result"
    }
   ],
   "source": [
    "df_g=pd.DataFrame({'R-Standard Uniform':random,\n",
    "                  'Simulated x':simulated_x})\n",
    "\n",
    "df_g.head()"
   ]
  },
  {
   "cell_type": "markdown",
   "metadata": {},
   "source": [
    "**h. Calculate the experimental (simulated) expected value (mean), the experimental variance, and the experimental standard deviation of X in the spaces provided for those quantities.**"
   ]
  },
  {
   "cell_type": "code",
   "execution_count": 314,
   "metadata": {},
   "outputs": [],
   "source": [
    "Smean=0\n",
    "i=0\n",
    "for i in range(1000):\n",
    "    Smean+=df_g['Simulated x'][i]*df_g['R-Standard Uniform'][i]\n",
    "Smean=Smean/1000\n",
    "    \n",
    "Svariance=0\n",
    "for i in range(1000):\n",
    "    Svariance+=((df_g['Simulated x'][i])**2)*df_g['R-Standard Uniform'][i]\n",
    "\n",
    "Svariance=(Svariance-Smean**2)/1000\n",
    "\n",
    "Ssd=Svariance**0.5"
   ]
  },
  {
   "cell_type": "code",
   "execution_count": 315,
   "metadata": {},
   "outputs": [
    {
     "data": {
      "text/html": [
       "<div>\n",
       "<style scoped>\n",
       "    .dataframe tbody tr th:only-of-type {\n",
       "        vertical-align: middle;\n",
       "    }\n",
       "\n",
       "    .dataframe tbody tr th {\n",
       "        vertical-align: top;\n",
       "    }\n",
       "\n",
       "    .dataframe thead th {\n",
       "        text-align: right;\n",
       "    }\n",
       "</style>\n",
       "<table border=\"1\" class=\"dataframe\">\n",
       "  <thead>\n",
       "    <tr style=\"text-align: right;\">\n",
       "      <th></th>\n",
       "      <th>Theoretical</th>\n",
       "      <th>Experimental (Simulated)</th>\n",
       "    </tr>\n",
       "  </thead>\n",
       "  <tbody>\n",
       "    <tr>\n",
       "      <th>Expected Value of X</th>\n",
       "      <td>4.444439</td>\n",
       "      <td>4.340120</td>\n",
       "    </tr>\n",
       "    <tr>\n",
       "      <th>Variance of X</th>\n",
       "      <td>2.718817</td>\n",
       "      <td>47.455698</td>\n",
       "    </tr>\n",
       "    <tr>\n",
       "      <th>SD of X</th>\n",
       "      <td>1.648884</td>\n",
       "      <td>6.888810</td>\n",
       "    </tr>\n",
       "  </tbody>\n",
       "</table>\n",
       "</div>"
      ],
      "text/plain": [
       "                     Theoretical  Experimental (Simulated)\n",
       "Expected Value of X     4.444439                  4.340120\n",
       "Variance of X           2.718817                 47.455698\n",
       "SD of X                 1.648884                  6.888810"
      ]
     },
     "execution_count": 315,
     "metadata": {},
     "output_type": "execute_result"
    }
   ],
   "source": [
    "df_h=pd.DataFrame({'Theoretical':[round(mean,6),round(variance,6),round(sd,6)],\n",
    "                  'Experimental (Simulated)':[round(Smean,6),round(Svariance,6),round(Ssd,6)]},\n",
    "                   index=['Expected Value of X','Variance of X','SD of X'])\n",
    "df_h"
   ]
  },
  {
   "cell_type": "markdown",
   "metadata": {},
   "source": [
    "**i. Calculate the experimental means successively after n = 20, 40, 60, 80, 100, 200, 300, 400, 500, 600, 700, 800, 900, and 1000 simulations.**"
   ]
  },
  {
   "cell_type": "code",
   "execution_count": 223,
   "metadata": {},
   "outputs": [],
   "source": [
    "Xsimulated=[]\n",
    "\n",
    "def experiment(num):\n",
    "    random=np.random.rand(num)\n",
    "    for i,r in enumerate(random):\n",
    "        random[i]=round(r,6)\n",
    "\n",
    "    N,k,n=90,20,20\n",
    "    Xsimulated=[]\n",
    "    for i in range(num):\n",
    "        Xsimulated.append(hypergeom.ppf(np.random.choice(df_b['P(X≤x)']), N, n, k, loc=0))\n",
    "        \n",
    "    df=pd.DataFrame({'R-Standard Uniform':random,\n",
    "                  'Simulated x':Xsimulated})   \n",
    "    return df\n",
    "\n",
    "def calMean(df,num):\n",
    "    mean=0\n",
    "    i=0\n",
    "    for i in range(num):\n",
    "        mean+=df_g['R-Standard Uniform'][i]*df_g['Simulated x'][i]\n",
    "    mean=mean/num\n",
    "    return mean\n",
    "    "
   ]
  },
  {
   "cell_type": "code",
   "execution_count": 233,
   "metadata": {},
   "outputs": [],
   "source": [
    "nums=[20, 40, 60, 80, 100, 200, 300, 400, 500, 600, 700, 800, 900, 1000]\n",
    "Xmean=[]\n",
    "for num in nums:\n",
    "    df=experiment(num)\n",
    "    mean=calMean(df,num)\n",
    "    Xmean.append(mean)\n"
   ]
  },
  {
   "cell_type": "code",
   "execution_count": 234,
   "metadata": {},
   "outputs": [
    {
     "data": {
      "text/html": [
       "<div>\n",
       "<style scoped>\n",
       "    .dataframe tbody tr th:only-of-type {\n",
       "        vertical-align: middle;\n",
       "    }\n",
       "\n",
       "    .dataframe tbody tr th {\n",
       "        vertical-align: top;\n",
       "    }\n",
       "\n",
       "    .dataframe thead th {\n",
       "        text-align: right;\n",
       "    }\n",
       "</style>\n",
       "<table border=\"1\" class=\"dataframe\">\n",
       "  <thead>\n",
       "    <tr style=\"text-align: right;\">\n",
       "      <th></th>\n",
       "      <th>n-Number of Simulations</th>\n",
       "      <th>The Experimental Mean of X</th>\n",
       "    </tr>\n",
       "  </thead>\n",
       "  <tbody>\n",
       "    <tr>\n",
       "      <th>0</th>\n",
       "      <td>20</td>\n",
       "      <td>4.564440</td>\n",
       "    </tr>\n",
       "    <tr>\n",
       "      <th>1</th>\n",
       "      <td>40</td>\n",
       "      <td>4.931866</td>\n",
       "    </tr>\n",
       "    <tr>\n",
       "      <th>2</th>\n",
       "      <td>60</td>\n",
       "      <td>4.540299</td>\n",
       "    </tr>\n",
       "    <tr>\n",
       "      <th>3</th>\n",
       "      <td>80</td>\n",
       "      <td>4.489471</td>\n",
       "    </tr>\n",
       "    <tr>\n",
       "      <th>4</th>\n",
       "      <td>100</td>\n",
       "      <td>4.584434</td>\n",
       "    </tr>\n",
       "    <tr>\n",
       "      <th>5</th>\n",
       "      <td>200</td>\n",
       "      <td>4.504605</td>\n",
       "    </tr>\n",
       "    <tr>\n",
       "      <th>6</th>\n",
       "      <td>300</td>\n",
       "      <td>4.576825</td>\n",
       "    </tr>\n",
       "    <tr>\n",
       "      <th>7</th>\n",
       "      <td>400</td>\n",
       "      <td>4.472447</td>\n",
       "    </tr>\n",
       "    <tr>\n",
       "      <th>8</th>\n",
       "      <td>500</td>\n",
       "      <td>4.438988</td>\n",
       "    </tr>\n",
       "    <tr>\n",
       "      <th>9</th>\n",
       "      <td>600</td>\n",
       "      <td>4.501246</td>\n",
       "    </tr>\n",
       "    <tr>\n",
       "      <th>10</th>\n",
       "      <td>700</td>\n",
       "      <td>4.464302</td>\n",
       "    </tr>\n",
       "    <tr>\n",
       "      <th>11</th>\n",
       "      <td>800</td>\n",
       "      <td>4.441030</td>\n",
       "    </tr>\n",
       "    <tr>\n",
       "      <th>12</th>\n",
       "      <td>900</td>\n",
       "      <td>4.503312</td>\n",
       "    </tr>\n",
       "    <tr>\n",
       "      <th>13</th>\n",
       "      <td>1000</td>\n",
       "      <td>4.444307</td>\n",
       "    </tr>\n",
       "  </tbody>\n",
       "</table>\n",
       "</div>"
      ],
      "text/plain": [
       "    n-Number of Simulations  The Experimental Mean of X\n",
       "0                        20                    4.564440\n",
       "1                        40                    4.931866\n",
       "2                        60                    4.540299\n",
       "3                        80                    4.489471\n",
       "4                       100                    4.584434\n",
       "5                       200                    4.504605\n",
       "6                       300                    4.576825\n",
       "7                       400                    4.472447\n",
       "8                       500                    4.438988\n",
       "9                       600                    4.501246\n",
       "10                      700                    4.464302\n",
       "11                      800                    4.441030\n",
       "12                      900                    4.503312\n",
       "13                     1000                    4.444307"
      ]
     },
     "execution_count": 234,
     "metadata": {},
     "output_type": "execute_result"
    }
   ],
   "source": [
    "df_i=pd.DataFrame({'n-Number of Simulations':nums,\n",
    "                  'The Experimental Mean of X':Xmean})  \n",
    "#df_i.set_index('n-Number of Simulations',inplace=True)\n",
    "df_i"
   ]
  },
  {
   "cell_type": "markdown",
   "metadata": {},
   "source": [
    "**j. For the same values of n, calculate the Theoretical mean of X. Use the fixed value of the theoretical mean calculated in part (e).**"
   ]
  },
  {
   "cell_type": "code",
   "execution_count": 235,
   "metadata": {},
   "outputs": [
    {
     "data": {
      "text/html": [
       "<div>\n",
       "<style scoped>\n",
       "    .dataframe tbody tr th:only-of-type {\n",
       "        vertical-align: middle;\n",
       "    }\n",
       "\n",
       "    .dataframe tbody tr th {\n",
       "        vertical-align: top;\n",
       "    }\n",
       "\n",
       "    .dataframe thead th {\n",
       "        text-align: right;\n",
       "    }\n",
       "</style>\n",
       "<table border=\"1\" class=\"dataframe\">\n",
       "  <thead>\n",
       "    <tr style=\"text-align: right;\">\n",
       "      <th></th>\n",
       "      <th>n-Number of Simulations</th>\n",
       "      <th>The Experimental Mean of X</th>\n",
       "      <th>The Theoretical Mean of X</th>\n",
       "    </tr>\n",
       "  </thead>\n",
       "  <tbody>\n",
       "    <tr>\n",
       "      <th>0</th>\n",
       "      <td>20</td>\n",
       "      <td>4.564440</td>\n",
       "      <td>4.444439</td>\n",
       "    </tr>\n",
       "    <tr>\n",
       "      <th>1</th>\n",
       "      <td>40</td>\n",
       "      <td>4.931866</td>\n",
       "      <td>4.444439</td>\n",
       "    </tr>\n",
       "    <tr>\n",
       "      <th>2</th>\n",
       "      <td>60</td>\n",
       "      <td>4.540299</td>\n",
       "      <td>4.444439</td>\n",
       "    </tr>\n",
       "    <tr>\n",
       "      <th>3</th>\n",
       "      <td>80</td>\n",
       "      <td>4.489471</td>\n",
       "      <td>4.444439</td>\n",
       "    </tr>\n",
       "    <tr>\n",
       "      <th>4</th>\n",
       "      <td>100</td>\n",
       "      <td>4.584434</td>\n",
       "      <td>4.444439</td>\n",
       "    </tr>\n",
       "    <tr>\n",
       "      <th>5</th>\n",
       "      <td>200</td>\n",
       "      <td>4.504605</td>\n",
       "      <td>4.444439</td>\n",
       "    </tr>\n",
       "    <tr>\n",
       "      <th>6</th>\n",
       "      <td>300</td>\n",
       "      <td>4.576825</td>\n",
       "      <td>4.444439</td>\n",
       "    </tr>\n",
       "    <tr>\n",
       "      <th>7</th>\n",
       "      <td>400</td>\n",
       "      <td>4.472447</td>\n",
       "      <td>4.444439</td>\n",
       "    </tr>\n",
       "    <tr>\n",
       "      <th>8</th>\n",
       "      <td>500</td>\n",
       "      <td>4.438988</td>\n",
       "      <td>4.444439</td>\n",
       "    </tr>\n",
       "    <tr>\n",
       "      <th>9</th>\n",
       "      <td>600</td>\n",
       "      <td>4.501246</td>\n",
       "      <td>4.444439</td>\n",
       "    </tr>\n",
       "    <tr>\n",
       "      <th>10</th>\n",
       "      <td>700</td>\n",
       "      <td>4.464302</td>\n",
       "      <td>4.444439</td>\n",
       "    </tr>\n",
       "    <tr>\n",
       "      <th>11</th>\n",
       "      <td>800</td>\n",
       "      <td>4.441030</td>\n",
       "      <td>4.444439</td>\n",
       "    </tr>\n",
       "    <tr>\n",
       "      <th>12</th>\n",
       "      <td>900</td>\n",
       "      <td>4.503312</td>\n",
       "      <td>4.444439</td>\n",
       "    </tr>\n",
       "    <tr>\n",
       "      <th>13</th>\n",
       "      <td>1000</td>\n",
       "      <td>4.444307</td>\n",
       "      <td>4.444439</td>\n",
       "    </tr>\n",
       "  </tbody>\n",
       "</table>\n",
       "</div>"
      ],
      "text/plain": [
       "    n-Number of Simulations  The Experimental Mean of X  \\\n",
       "0                        20                    4.564440   \n",
       "1                        40                    4.931866   \n",
       "2                        60                    4.540299   \n",
       "3                        80                    4.489471   \n",
       "4                       100                    4.584434   \n",
       "5                       200                    4.504605   \n",
       "6                       300                    4.576825   \n",
       "7                       400                    4.472447   \n",
       "8                       500                    4.438988   \n",
       "9                       600                    4.501246   \n",
       "10                      700                    4.464302   \n",
       "11                      800                    4.441030   \n",
       "12                      900                    4.503312   \n",
       "13                     1000                    4.444307   \n",
       "\n",
       "    The Theoretical Mean of X  \n",
       "0                    4.444439  \n",
       "1                    4.444439  \n",
       "2                    4.444439  \n",
       "3                    4.444439  \n",
       "4                    4.444439  \n",
       "5                    4.444439  \n",
       "6                    4.444439  \n",
       "7                    4.444439  \n",
       "8                    4.444439  \n",
       "9                    4.444439  \n",
       "10                   4.444439  \n",
       "11                   4.444439  \n",
       "12                   4.444439  \n",
       "13                   4.444439  "
      ]
     },
     "execution_count": 235,
     "metadata": {},
     "output_type": "execute_result"
    }
   ],
   "source": [
    "df_j=pd.DataFrame({'n-Number of Simulations':nums,\n",
    "                  'The Experimental Mean of X':Xmean,\n",
    "                  'The Theoretical Mean of X':[df_e['Theoretical'][0]]*14})  \n",
    "#df_j.set_index('n-Number of Simulations',inplace=True)\n",
    "df_j"
   ]
  },
  {
   "cell_type": "markdown",
   "metadata": {},
   "source": [
    "**k. Create a line plot of the Experimental mean values versus the number of simulations (n). Add the horizontal line plot displaying the theoretical mean of X. Run several simulations of the successive experimental means. Interpret your observation in the context of the Law of Large Numbers (as the number of simulations become larger, the experimental values of the means approach to their theoretical value).**"
   ]
  },
  {
   "cell_type": "code",
   "execution_count": 245,
   "metadata": {},
   "outputs": [
    {
     "data": {
      "text/plain": [
       "<matplotlib.legend.Legend at 0x1a1dee8dd8>"
      ]
     },
     "execution_count": 245,
     "metadata": {},
     "output_type": "execute_result"
    },
    {
     "data": {
      "image/png": "[encoded data removed]",
      "text/plain": [
       "<Figure size 864x432 with 1 Axes>"
      ]
     },
     "metadata": {
      "needs_background": "light"
     },
     "output_type": "display_data"
    }
   ],
   "source": [
    "x=np.array([0,1,2,3,4,5,6,7,8,9,10,11,12,13])\n",
    "fig,ax=plt.subplots(figsize=(12,6))\n",
    "my_xticks= [20, 40, 60, 80, 100, 200, 300, 400, 500, 600, 700, 800, 900, 1000]\n",
    "plt.xticks(x,my_xticks)\n",
    "ax.plot(x,df_j[['The Experimental Mean of X']])\n",
    "ax.plot(x,df_j[['The Theoretical Mean of X']])\n",
    "ax.set_ylabel('The Mean Values')\n",
    "ax.set_ylim(4,5)\n",
    "\n",
    "plt.grid(axis='y',alpha=0.5)\n",
    "plt.legend(['The Experimental Mean of X','The Theoretical Mean of X'])"
   ]
  },
  {
   "cell_type": "markdown",
   "metadata": {},
   "source": [
    "# Part 2"
   ]
  },
  {
   "cell_type": "markdown",
   "metadata": {},
   "source": [
    "**a. A normal population is given in column E of the worksheet. Calculate the mean, the variance, and the standard deviation of this population.**"
   ]
  },
  {
   "cell_type": "code",
   "execution_count": 37,
   "metadata": {},
   "outputs": [
    {
     "data": {
      "text/html": [
       "<div>\n",
       "<style scoped>\n",
       "    .dataframe tbody tr th:only-of-type {\n",
       "        vertical-align: middle;\n",
       "    }\n",
       "\n",
       "    .dataframe tbody tr th {\n",
       "        vertical-align: top;\n",
       "    }\n",
       "\n",
       "    .dataframe thead th {\n",
       "        text-align: right;\n",
       "    }\n",
       "</style>\n",
       "<table border=\"1\" class=\"dataframe\">\n",
       "  <thead>\n",
       "    <tr style=\"text-align: right;\">\n",
       "      <th></th>\n",
       "      <th>X-A Normal Population</th>\n",
       "    </tr>\n",
       "  </thead>\n",
       "  <tbody>\n",
       "    <tr>\n",
       "      <th>0</th>\n",
       "      <td>191</td>\n",
       "    </tr>\n",
       "    <tr>\n",
       "      <th>1</th>\n",
       "      <td>170</td>\n",
       "    </tr>\n",
       "    <tr>\n",
       "      <th>2</th>\n",
       "      <td>226</td>\n",
       "    </tr>\n",
       "    <tr>\n",
       "      <th>3</th>\n",
       "      <td>208</td>\n",
       "    </tr>\n",
       "    <tr>\n",
       "      <th>4</th>\n",
       "      <td>199</td>\n",
       "    </tr>\n",
       "  </tbody>\n",
       "</table>\n",
       "</div>"
      ],
      "text/plain": [
       "   X-A Normal Population\n",
       "0                    191\n",
       "1                    170\n",
       "2                    226\n",
       "3                    208\n",
       "4                    199"
      ]
     },
     "execution_count": 37,
     "metadata": {},
     "output_type": "execute_result"
    }
   ],
   "source": [
    "df2_a=pd.read_excel('Module 3 Project_Keno_v3(1).xlsx',sheet_name='Part 2')\n",
    "df2_a=df2_a[['X - A Normal Population']]\n",
    "df2_a['X-A Normal Population']=df2_a['X - A Normal Population']\n",
    "df2_a.drop('X - A Normal Population',axis=1,inplace=True)\n",
    "df2_a.head()"
   ]
  },
  {
   "cell_type": "code",
   "execution_count": 38,
   "metadata": {},
   "outputs": [
    {
     "data": {
      "text/html": [
       "<div>\n",
       "<style scoped>\n",
       "    .dataframe tbody tr th:only-of-type {\n",
       "        vertical-align: middle;\n",
       "    }\n",
       "\n",
       "    .dataframe tbody tr th {\n",
       "        vertical-align: top;\n",
       "    }\n",
       "\n",
       "    .dataframe thead th {\n",
       "        text-align: right;\n",
       "    }\n",
       "</style>\n",
       "<table border=\"1\" class=\"dataframe\">\n",
       "  <thead>\n",
       "    <tr style=\"text-align: right;\">\n",
       "      <th></th>\n",
       "      <th>X-A Normal Population</th>\n",
       "    </tr>\n",
       "  </thead>\n",
       "  <tbody>\n",
       "    <tr>\n",
       "      <th>count</th>\n",
       "      <td>1000.000000</td>\n",
       "    </tr>\n",
       "    <tr>\n",
       "      <th>mean</th>\n",
       "      <td>199.206000</td>\n",
       "    </tr>\n",
       "    <tr>\n",
       "      <th>std</th>\n",
       "      <td>18.209315</td>\n",
       "    </tr>\n",
       "    <tr>\n",
       "      <th>min</th>\n",
       "      <td>144.000000</td>\n",
       "    </tr>\n",
       "    <tr>\n",
       "      <th>25%</th>\n",
       "      <td>188.000000</td>\n",
       "    </tr>\n",
       "    <tr>\n",
       "      <th>50%</th>\n",
       "      <td>199.000000</td>\n",
       "    </tr>\n",
       "    <tr>\n",
       "      <th>75%</th>\n",
       "      <td>212.000000</td>\n",
       "    </tr>\n",
       "    <tr>\n",
       "      <th>max</th>\n",
       "      <td>256.000000</td>\n",
       "    </tr>\n",
       "  </tbody>\n",
       "</table>\n",
       "</div>"
      ],
      "text/plain": [
       "       X-A Normal Population\n",
       "count            1000.000000\n",
       "mean              199.206000\n",
       "std                18.209315\n",
       "min               144.000000\n",
       "25%               188.000000\n",
       "50%               199.000000\n",
       "75%               212.000000\n",
       "max               256.000000"
      ]
     },
     "execution_count": 38,
     "metadata": {},
     "output_type": "execute_result"
    }
   ],
   "source": [
    "df2_a.describe()"
   ]
  },
  {
   "cell_type": "code",
   "execution_count": 33,
   "metadata": {},
   "outputs": [
    {
     "data": {
      "text/html": [
       "<div>\n",
       "<style scoped>\n",
       "    .dataframe tbody tr th:only-of-type {\n",
       "        vertical-align: middle;\n",
       "    }\n",
       "\n",
       "    .dataframe tbody tr th {\n",
       "        vertical-align: top;\n",
       "    }\n",
       "\n",
       "    .dataframe thead th {\n",
       "        text-align: right;\n",
       "    }\n",
       "</style>\n",
       "<table border=\"1\" class=\"dataframe\">\n",
       "  <thead>\n",
       "    <tr style=\"text-align: right;\">\n",
       "      <th></th>\n",
       "      <th>Population</th>\n",
       "    </tr>\n",
       "  </thead>\n",
       "  <tbody>\n",
       "    <tr>\n",
       "      <th>Mean of X</th>\n",
       "      <td>199.206</td>\n",
       "    </tr>\n",
       "    <tr>\n",
       "      <th>Variance of X</th>\n",
       "      <td>331.248</td>\n",
       "    </tr>\n",
       "    <tr>\n",
       "      <th>SD of X</th>\n",
       "      <td>18.209</td>\n",
       "    </tr>\n",
       "  </tbody>\n",
       "</table>\n",
       "</div>"
      ],
      "text/plain": [
       "               Population\n",
       "Mean of X         199.206\n",
       "Variance of X     331.248\n",
       "SD of X            18.209"
      ]
     },
     "execution_count": 33,
     "metadata": {},
     "output_type": "execute_result"
    }
   ],
   "source": [
    "df2_a=pd.DataFrame({'Population':[199.206,331.248,18.209]},\n",
    "                   index=['Mean of X','Variance of X','SD of X']) \n",
    "df2_a"
   ]
  },
  {
   "cell_type": "markdown",
   "metadata": {},
   "source": [
    "**b. Construct a Relative Frequency Histogram of the given population. Discuss the shape of the distribution in your report.**"
   ]
  },
  {
   "cell_type": "code",
   "execution_count": 175,
   "metadata": {
    "scrolled": true
   },
   "outputs": [
    {
     "data": {
      "text/html": [
       "<div>\n",
       "<style scoped>\n",
       "    .dataframe tbody tr th:only-of-type {\n",
       "        vertical-align: middle;\n",
       "    }\n",
       "\n",
       "    .dataframe tbody tr th {\n",
       "        vertical-align: top;\n",
       "    }\n",
       "\n",
       "    .dataframe thead th {\n",
       "        text-align: right;\n",
       "    }\n",
       "</style>\n",
       "<table border=\"1\" class=\"dataframe\">\n",
       "  <thead>\n",
       "    <tr style=\"text-align: right;\">\n",
       "      <th></th>\n",
       "      <th>X-A Normal Population</th>\n",
       "      <th>Frequency</th>\n",
       "      <th>Relative Frequency</th>\n",
       "    </tr>\n",
       "  </thead>\n",
       "  <tbody>\n",
       "    <tr>\n",
       "      <th>0</th>\n",
       "      <td>144</td>\n",
       "      <td>1</td>\n",
       "      <td>0.1</td>\n",
       "    </tr>\n",
       "    <tr>\n",
       "      <th>1</th>\n",
       "      <td>148</td>\n",
       "      <td>1</td>\n",
       "      <td>0.1</td>\n",
       "    </tr>\n",
       "    <tr>\n",
       "      <th>2</th>\n",
       "      <td>152</td>\n",
       "      <td>2</td>\n",
       "      <td>0.2</td>\n",
       "    </tr>\n",
       "    <tr>\n",
       "      <th>3</th>\n",
       "      <td>154</td>\n",
       "      <td>5</td>\n",
       "      <td>0.5</td>\n",
       "    </tr>\n",
       "    <tr>\n",
       "      <th>4</th>\n",
       "      <td>155</td>\n",
       "      <td>1</td>\n",
       "      <td>0.1</td>\n",
       "    </tr>\n",
       "  </tbody>\n",
       "</table>\n",
       "</div>"
      ],
      "text/plain": [
       "   X-A Normal Population  Frequency  Relative Frequency\n",
       "0                    144          1                 0.1\n",
       "1                    148          1                 0.1\n",
       "2                    152          2                 0.2\n",
       "3                    154          5                 0.5\n",
       "4                    155          1                 0.1"
      ]
     },
     "execution_count": 175,
     "metadata": {},
     "output_type": "execute_result"
    }
   ],
   "source": [
    "temp=df2_a\n",
    "df2_b.reset_index(inplace=True)\n",
    "df2_b.rename(columns={'level_0':'Frequency'},inplace=True)\n",
    "df2_b=temp.groupby('X-A Normal Population').count()\n",
    "\n",
    "df2_b['Relative Frequency']=(df2_b['Frequency']/(df2_b[\"Frequency\"].sum()))*100\n",
    "df2_b.drop('index',axis=1,inplace=True)\n",
    "df2_b.reset_index(inplace=True)\n",
    "df2_b.head()"
   ]
  },
  {
   "cell_type": "code",
   "execution_count": 251,
   "metadata": {},
   "outputs": [
    {
     "data": {
      "image/png": "[encoded data removed]",
      "text/plain": [
       "<Figure size 864x432 with 1 Axes>"
      ]
     },
     "metadata": {
      "needs_background": "light"
     },
     "output_type": "display_data"
    }
   ],
   "source": [
    "def to_percent(y, position):\n",
    "    s = str(y)\n",
    "\n",
    "    if matplotlib.rcParams['text.usetex'] is True:\n",
    "        return s + r'$\\%$'\n",
    "    else:\n",
    "        return s + '%'\n",
    "\n",
    "kde = stats.gaussian_kde(df2_b['X-A Normal Population'])\n",
    "\n",
    "#plt.figure(figsize=(12,6))\n",
    "fig, ax = plt.subplots(figsize=(12,6))\n",
    "ax.hist(df2_b['X-A Normal Population'],density=True,bins=80)\n",
    "ax.plot(df2_b['X-A Normal Population'], kde(df2_b['X-A Normal Population']))\n",
    "\n",
    "formatter = FuncFormatter(to_percent)\n",
    "plt.gca().yaxis.set_major_formatter(formatter)\n",
    "\n",
    "plt.ylabel('Probabilities')\n",
    "plt.grid(axis='y',alpha=0.5)"
   ]
  },
  {
   "cell_type": "markdown",
   "metadata": {},
   "source": [
    "**c. Using the random sampling method in R, randomly draw 30 samples with each sample consisting of 30 measurements from this population.**"
   ]
  },
  {
   "cell_type": "code",
   "execution_count": 40,
   "metadata": {},
   "outputs": [
    {
     "data": {
      "text/html": [
       "<div>\n",
       "<style scoped>\n",
       "    .dataframe tbody tr th:only-of-type {\n",
       "        vertical-align: middle;\n",
       "    }\n",
       "\n",
       "    .dataframe tbody tr th {\n",
       "        vertical-align: top;\n",
       "    }\n",
       "\n",
       "    .dataframe thead th {\n",
       "        text-align: right;\n",
       "    }\n",
       "</style>\n",
       "<table border=\"1\" class=\"dataframe\">\n",
       "  <thead>\n",
       "    <tr style=\"text-align: right;\">\n",
       "      <th></th>\n",
       "      <th>sample0</th>\n",
       "      <th>sample1</th>\n",
       "      <th>sample2</th>\n",
       "      <th>sample3</th>\n",
       "      <th>sample4</th>\n",
       "      <th>sample5</th>\n",
       "      <th>sample6</th>\n",
       "      <th>sample7</th>\n",
       "      <th>sample8</th>\n",
       "      <th>sample9</th>\n",
       "      <th>...</th>\n",
       "      <th>sample20</th>\n",
       "      <th>sample21</th>\n",
       "      <th>sample22</th>\n",
       "      <th>sample23</th>\n",
       "      <th>sample24</th>\n",
       "      <th>sample25</th>\n",
       "      <th>sample26</th>\n",
       "      <th>sample27</th>\n",
       "      <th>sample28</th>\n",
       "      <th>sample29</th>\n",
       "    </tr>\n",
       "  </thead>\n",
       "  <tbody>\n",
       "    <tr>\n",
       "      <th>0</th>\n",
       "      <td>188</td>\n",
       "      <td>176</td>\n",
       "      <td>191</td>\n",
       "      <td>187</td>\n",
       "      <td>194</td>\n",
       "      <td>207</td>\n",
       "      <td>170</td>\n",
       "      <td>212</td>\n",
       "      <td>184</td>\n",
       "      <td>197</td>\n",
       "      <td>...</td>\n",
       "      <td>233</td>\n",
       "      <td>231</td>\n",
       "      <td>196</td>\n",
       "      <td>165</td>\n",
       "      <td>206</td>\n",
       "      <td>225</td>\n",
       "      <td>210</td>\n",
       "      <td>238</td>\n",
       "      <td>209</td>\n",
       "      <td>195</td>\n",
       "    </tr>\n",
       "    <tr>\n",
       "      <th>1</th>\n",
       "      <td>191</td>\n",
       "      <td>199</td>\n",
       "      <td>217</td>\n",
       "      <td>185</td>\n",
       "      <td>192</td>\n",
       "      <td>204</td>\n",
       "      <td>184</td>\n",
       "      <td>180</td>\n",
       "      <td>205</td>\n",
       "      <td>209</td>\n",
       "      <td>...</td>\n",
       "      <td>226</td>\n",
       "      <td>186</td>\n",
       "      <td>213</td>\n",
       "      <td>186</td>\n",
       "      <td>207</td>\n",
       "      <td>213</td>\n",
       "      <td>210</td>\n",
       "      <td>193</td>\n",
       "      <td>199</td>\n",
       "      <td>214</td>\n",
       "    </tr>\n",
       "    <tr>\n",
       "      <th>2</th>\n",
       "      <td>184</td>\n",
       "      <td>197</td>\n",
       "      <td>190</td>\n",
       "      <td>193</td>\n",
       "      <td>196</td>\n",
       "      <td>185</td>\n",
       "      <td>184</td>\n",
       "      <td>192</td>\n",
       "      <td>186</td>\n",
       "      <td>220</td>\n",
       "      <td>...</td>\n",
       "      <td>188</td>\n",
       "      <td>196</td>\n",
       "      <td>212</td>\n",
       "      <td>179</td>\n",
       "      <td>187</td>\n",
       "      <td>220</td>\n",
       "      <td>208</td>\n",
       "      <td>232</td>\n",
       "      <td>197</td>\n",
       "      <td>206</td>\n",
       "    </tr>\n",
       "    <tr>\n",
       "      <th>3</th>\n",
       "      <td>248</td>\n",
       "      <td>204</td>\n",
       "      <td>165</td>\n",
       "      <td>185</td>\n",
       "      <td>199</td>\n",
       "      <td>179</td>\n",
       "      <td>202</td>\n",
       "      <td>161</td>\n",
       "      <td>165</td>\n",
       "      <td>205</td>\n",
       "      <td>...</td>\n",
       "      <td>199</td>\n",
       "      <td>175</td>\n",
       "      <td>182</td>\n",
       "      <td>193</td>\n",
       "      <td>216</td>\n",
       "      <td>178</td>\n",
       "      <td>209</td>\n",
       "      <td>207</td>\n",
       "      <td>200</td>\n",
       "      <td>175</td>\n",
       "    </tr>\n",
       "    <tr>\n",
       "      <th>4</th>\n",
       "      <td>215</td>\n",
       "      <td>202</td>\n",
       "      <td>191</td>\n",
       "      <td>199</td>\n",
       "      <td>220</td>\n",
       "      <td>190</td>\n",
       "      <td>187</td>\n",
       "      <td>185</td>\n",
       "      <td>207</td>\n",
       "      <td>214</td>\n",
       "      <td>...</td>\n",
       "      <td>154</td>\n",
       "      <td>214</td>\n",
       "      <td>211</td>\n",
       "      <td>209</td>\n",
       "      <td>222</td>\n",
       "      <td>237</td>\n",
       "      <td>178</td>\n",
       "      <td>174</td>\n",
       "      <td>195</td>\n",
       "      <td>185</td>\n",
       "    </tr>\n",
       "  </tbody>\n",
       "</table>\n",
       "<p>5 rows × 30 columns</p>\n",
       "</div>"
      ],
      "text/plain": [
       "   sample0  sample1  sample2  sample3  sample4  sample5  sample6  sample7  \\\n",
       "0      188      176      191      187      194      207      170      212   \n",
       "1      191      199      217      185      192      204      184      180   \n",
       "2      184      197      190      193      196      185      184      192   \n",
       "3      248      204      165      185      199      179      202      161   \n",
       "4      215      202      191      199      220      190      187      185   \n",
       "\n",
       "   sample8  sample9  ...  sample20  sample21  sample22  sample23  sample24  \\\n",
       "0      184      197  ...       233       231       196       165       206   \n",
       "1      205      209  ...       226       186       213       186       207   \n",
       "2      186      220  ...       188       196       212       179       187   \n",
       "3      165      205  ...       199       175       182       193       216   \n",
       "4      207      214  ...       154       214       211       209       222   \n",
       "\n",
       "   sample25  sample26  sample27  sample28  sample29  \n",
       "0       225       210       238       209       195  \n",
       "1       213       210       193       199       214  \n",
       "2       220       208       232       197       206  \n",
       "3       178       209       207       200       175  \n",
       "4       237       178       174       195       185  \n",
       "\n",
       "[5 rows x 30 columns]"
      ]
     },
     "execution_count": 40,
     "metadata": {},
     "output_type": "execute_result"
    }
   ],
   "source": [
    "def findsample():\n",
    "    lst=[]\n",
    "    for i in range(30):\n",
    "        lst.append(np.random.choice(df2_a['X-A Normal Population']))\n",
    "    return lst\n",
    "\n",
    "samples={}\n",
    "for i in range(30):\n",
    "    samples['sample'+str(i)]=findsample()\n",
    "    \n",
    "\n",
    "df2_c=pd.DataFrame(samples)\n",
    "\n",
    "df2_c.head()   "
   ]
  },
  {
   "cell_type": "markdown",
   "metadata": {},
   "source": [
    "**d. For each sample, calculate the sample mean, the sample variance, and the sample standard deviation in the designated cells.**"
   ]
  },
  {
   "cell_type": "code",
   "execution_count": 41,
   "metadata": {},
   "outputs": [
    {
     "data": {
      "text/html": [
       "<div>\n",
       "<style scoped>\n",
       "    .dataframe tbody tr th:only-of-type {\n",
       "        vertical-align: middle;\n",
       "    }\n",
       "\n",
       "    .dataframe tbody tr th {\n",
       "        vertical-align: top;\n",
       "    }\n",
       "\n",
       "    .dataframe thead th {\n",
       "        text-align: right;\n",
       "    }\n",
       "</style>\n",
       "<table border=\"1\" class=\"dataframe\">\n",
       "  <thead>\n",
       "    <tr style=\"text-align: right;\">\n",
       "      <th></th>\n",
       "      <th>sample0</th>\n",
       "      <th>sample1</th>\n",
       "      <th>sample2</th>\n",
       "      <th>sample3</th>\n",
       "      <th>sample4</th>\n",
       "      <th>sample5</th>\n",
       "      <th>sample6</th>\n",
       "      <th>sample7</th>\n",
       "      <th>sample8</th>\n",
       "      <th>sample9</th>\n",
       "      <th>...</th>\n",
       "      <th>sample20</th>\n",
       "      <th>sample21</th>\n",
       "      <th>sample22</th>\n",
       "      <th>sample23</th>\n",
       "      <th>sample24</th>\n",
       "      <th>sample25</th>\n",
       "      <th>sample26</th>\n",
       "      <th>sample27</th>\n",
       "      <th>sample28</th>\n",
       "      <th>sample29</th>\n",
       "    </tr>\n",
       "  </thead>\n",
       "  <tbody>\n",
       "    <tr>\n",
       "      <th>Sample Mean</th>\n",
       "      <td>193.067</td>\n",
       "      <td>201.600</td>\n",
       "      <td>200.700</td>\n",
       "      <td>199.267</td>\n",
       "      <td>200.400</td>\n",
       "      <td>196.767</td>\n",
       "      <td>200.800</td>\n",
       "      <td>198.233</td>\n",
       "      <td>189.900</td>\n",
       "      <td>194.733</td>\n",
       "      <td>...</td>\n",
       "      <td>202.667</td>\n",
       "      <td>197.167</td>\n",
       "      <td>199.367</td>\n",
       "      <td>191.367</td>\n",
       "      <td>195.367</td>\n",
       "      <td>202.267</td>\n",
       "      <td>202.633</td>\n",
       "      <td>203.133</td>\n",
       "      <td>204.100</td>\n",
       "      <td>199.400</td>\n",
       "    </tr>\n",
       "    <tr>\n",
       "      <th>Sample Variance</th>\n",
       "      <td>524.729</td>\n",
       "      <td>255.307</td>\n",
       "      <td>309.143</td>\n",
       "      <td>189.462</td>\n",
       "      <td>298.773</td>\n",
       "      <td>323.712</td>\n",
       "      <td>304.093</td>\n",
       "      <td>308.846</td>\n",
       "      <td>286.423</td>\n",
       "      <td>306.329</td>\n",
       "      <td>...</td>\n",
       "      <td>508.222</td>\n",
       "      <td>286.339</td>\n",
       "      <td>224.966</td>\n",
       "      <td>300.166</td>\n",
       "      <td>259.566</td>\n",
       "      <td>366.996</td>\n",
       "      <td>228.099</td>\n",
       "      <td>424.849</td>\n",
       "      <td>282.423</td>\n",
       "      <td>288.507</td>\n",
       "    </tr>\n",
       "    <tr>\n",
       "      <th>Sample SD</th>\n",
       "      <td>22.907</td>\n",
       "      <td>15.978</td>\n",
       "      <td>17.582</td>\n",
       "      <td>13.765</td>\n",
       "      <td>17.285</td>\n",
       "      <td>17.992</td>\n",
       "      <td>17.438</td>\n",
       "      <td>17.574</td>\n",
       "      <td>16.924</td>\n",
       "      <td>17.502</td>\n",
       "      <td>...</td>\n",
       "      <td>22.544</td>\n",
       "      <td>16.922</td>\n",
       "      <td>14.999</td>\n",
       "      <td>17.325</td>\n",
       "      <td>16.111</td>\n",
       "      <td>19.157</td>\n",
       "      <td>15.103</td>\n",
       "      <td>20.612</td>\n",
       "      <td>16.805</td>\n",
       "      <td>16.985</td>\n",
       "    </tr>\n",
       "  </tbody>\n",
       "</table>\n",
       "<p>3 rows × 30 columns</p>\n",
       "</div>"
      ],
      "text/plain": [
       "                 sample0  sample1  sample2  sample3  sample4  sample5  \\\n",
       "Sample Mean      193.067  201.600  200.700  199.267  200.400  196.767   \n",
       "Sample Variance  524.729  255.307  309.143  189.462  298.773  323.712   \n",
       "Sample SD         22.907   15.978   17.582   13.765   17.285   17.992   \n",
       "\n",
       "                 sample6  sample7  sample8  sample9  ...  sample20  sample21  \\\n",
       "Sample Mean      200.800  198.233  189.900  194.733  ...   202.667   197.167   \n",
       "Sample Variance  304.093  308.846  286.423  306.329  ...   508.222   286.339   \n",
       "Sample SD         17.438   17.574   16.924   17.502  ...    22.544    16.922   \n",
       "\n",
       "                 sample22  sample23  sample24  sample25  sample26  sample27  \\\n",
       "Sample Mean       199.367   191.367   195.367   202.267   202.633   203.133   \n",
       "Sample Variance   224.966   300.166   259.566   366.996   228.099   424.849   \n",
       "Sample SD          14.999    17.325    16.111    19.157    15.103    20.612   \n",
       "\n",
       "                 sample28  sample29  \n",
       "Sample Mean       204.100   199.400  \n",
       "Sample Variance   282.423   288.507  \n",
       "Sample SD          16.805    16.985  \n",
       "\n",
       "[3 rows x 30 columns]"
      ]
     },
     "execution_count": 41,
     "metadata": {},
     "output_type": "execute_result"
    }
   ],
   "source": [
    "df2_d={}\n",
    "for i in range(30):\n",
    "    mean=np.mean(df2_c['sample'+str(i)])\n",
    "    variance=np.var(df2_c['sample'+str(i)])\n",
    "    std=np.std(df2_c['sample'+str(i)])\n",
    "    df2_d['sample'+str(i)]=[round(mean,3),round(variance,3),round(std,3)]\n",
    "        \n",
    "df2_d=pd.DataFrame(df2_d,index=['Sample Mean','Sample Variance','Sample SD'])\n",
    "df2_d"
   ]
  },
  {
   "cell_type": "markdown",
   "metadata": {},
   "source": [
    "**e. Calculate the average of 30 sample means, the average of 30 sample variances, and the average of 30 sample standard deviations.**"
   ]
  },
  {
   "cell_type": "code",
   "execution_count": 61,
   "metadata": {},
   "outputs": [
    {
     "data": {
      "text/html": [
       "<div>\n",
       "<style scoped>\n",
       "    .dataframe tbody tr th:only-of-type {\n",
       "        vertical-align: middle;\n",
       "    }\n",
       "\n",
       "    .dataframe tbody tr th {\n",
       "        vertical-align: top;\n",
       "    }\n",
       "\n",
       "    .dataframe thead th {\n",
       "        text-align: right;\n",
       "    }\n",
       "</style>\n",
       "<table border=\"1\" class=\"dataframe\">\n",
       "  <thead>\n",
       "    <tr style=\"text-align: right;\">\n",
       "      <th></th>\n",
       "      <th>Samples</th>\n",
       "    </tr>\n",
       "  </thead>\n",
       "  <tbody>\n",
       "    <tr>\n",
       "      <th>Average of 30 Sample means</th>\n",
       "      <td>198.623333</td>\n",
       "    </tr>\n",
       "    <tr>\n",
       "      <th>Average of 30 Sample variances</th>\n",
       "      <td>318.616300</td>\n",
       "    </tr>\n",
       "    <tr>\n",
       "      <th>Average of 30 Sample SDs</th>\n",
       "      <td>17.724800</td>\n",
       "    </tr>\n",
       "  </tbody>\n",
       "</table>\n",
       "</div>"
      ],
      "text/plain": [
       "                                   Samples\n",
       "Average of 30 Sample means      198.623333\n",
       "Average of 30 Sample variances  318.616300\n",
       "Average of 30 Sample SDs         17.724800"
      ]
     },
     "execution_count": 61,
     "metadata": {},
     "output_type": "execute_result"
    }
   ],
   "source": [
    "lst=[]\n",
    "i=0\n",
    "while i<3:\n",
    "    sum=0\n",
    "    for j in range(30):\n",
    "        sum+=df2_d['sample'+str(j)][i]\n",
    "    lst.append(sum/30)\n",
    "    i+=1\n",
    "    \n",
    "df2_e=pd.DataFrame({'Samples':lst},\n",
    "                   index=['Average of 30 Sample means','Average of 30 Sample variances','Average of 30 Sample SDs']) \n",
    "df2_e"
   ]
  },
  {
   "cell_type": "markdown",
   "metadata": {},
   "source": [
    "**f. Compare your results of part (e) above with those obtained for the population in part (a). Discuss similarities and contrasts in the context of the Central Limit Theorem.**"
   ]
  },
  {
   "cell_type": "markdown",
   "metadata": {},
   "source": [
    "please see report for this part."
   ]
  },
  {
   "cell_type": "markdown",
   "metadata": {},
   "source": [
    "**g. Construct a relative frequency histogram for the 30 sample means obtained from part (e) above. Comment on the shape of the distribution of the sample means.**"
   ]
  },
  {
   "cell_type": "code",
   "execution_count": 107,
   "metadata": {},
   "outputs": [
    {
     "data": {
      "text/html": [
       "<div>\n",
       "<style scoped>\n",
       "    .dataframe tbody tr th:only-of-type {\n",
       "        vertical-align: middle;\n",
       "    }\n",
       "\n",
       "    .dataframe tbody tr th {\n",
       "        vertical-align: top;\n",
       "    }\n",
       "\n",
       "    .dataframe thead th {\n",
       "        text-align: right;\n",
       "    }\n",
       "</style>\n",
       "<table border=\"1\" class=\"dataframe\">\n",
       "  <thead>\n",
       "    <tr style=\"text-align: right;\">\n",
       "      <th></th>\n",
       "      <th>Sample Mean</th>\n",
       "      <th>Sample Variance</th>\n",
       "      <th>Sample SD</th>\n",
       "    </tr>\n",
       "  </thead>\n",
       "  <tbody>\n",
       "    <tr>\n",
       "      <th>0</th>\n",
       "      <td>193.1</td>\n",
       "      <td>524.729</td>\n",
       "      <td>22.907</td>\n",
       "    </tr>\n",
       "    <tr>\n",
       "      <th>1</th>\n",
       "      <td>201.6</td>\n",
       "      <td>255.307</td>\n",
       "      <td>15.978</td>\n",
       "    </tr>\n",
       "    <tr>\n",
       "      <th>2</th>\n",
       "      <td>200.7</td>\n",
       "      <td>309.143</td>\n",
       "      <td>17.582</td>\n",
       "    </tr>\n",
       "    <tr>\n",
       "      <th>3</th>\n",
       "      <td>199.3</td>\n",
       "      <td>189.462</td>\n",
       "      <td>13.765</td>\n",
       "    </tr>\n",
       "    <tr>\n",
       "      <th>4</th>\n",
       "      <td>200.4</td>\n",
       "      <td>298.773</td>\n",
       "      <td>17.285</td>\n",
       "    </tr>\n",
       "  </tbody>\n",
       "</table>\n",
       "</div>"
      ],
      "text/plain": [
       "   Sample Mean  Sample Variance  Sample SD\n",
       "0        193.1          524.729     22.907\n",
       "1        201.6          255.307     15.978\n",
       "2        200.7          309.143     17.582\n",
       "3        199.3          189.462     13.765\n",
       "4        200.4          298.773     17.285"
      ]
     },
     "execution_count": 107,
     "metadata": {},
     "output_type": "execute_result"
    }
   ],
   "source": [
    "df2_g={}\n",
    "i=0\n",
    "columns=['Sample Mean','Sample Variance','Sample SD']\n",
    "while i<3:\n",
    "    for j in range(30):\n",
    "        if columns[i] not in df2_g.keys():\n",
    "            df2_g[columns[i]]=[df2_d['sample'+str(j)][i]]\n",
    "        else:\n",
    "            df2_g[columns[i]].append(df2_d['sample'+str(j)][i])\n",
    "    i+=1\n",
    "\n",
    "df2_g=pd.DataFrame(df2_g)\n",
    "for i,mean in enumerate(df2_g['Sample Mean']):\n",
    "    df2_g['Sample Mean'][i]=round(mean,1)\n",
    "    \n",
    "\n",
    "df2_g.head()"
   ]
  },
  {
   "cell_type": "code",
   "execution_count": 108,
   "metadata": {},
   "outputs": [
    {
     "data": {
      "text/html": [
       "<div>\n",
       "<style scoped>\n",
       "    .dataframe tbody tr th:only-of-type {\n",
       "        vertical-align: middle;\n",
       "    }\n",
       "\n",
       "    .dataframe tbody tr th {\n",
       "        vertical-align: top;\n",
       "    }\n",
       "\n",
       "    .dataframe thead th {\n",
       "        text-align: right;\n",
       "    }\n",
       "</style>\n",
       "<table border=\"1\" class=\"dataframe\">\n",
       "  <thead>\n",
       "    <tr style=\"text-align: right;\">\n",
       "      <th></th>\n",
       "      <th>Sample Mean</th>\n",
       "      <th>Frequency</th>\n",
       "      <th>Relative Frequency</th>\n",
       "    </tr>\n",
       "  </thead>\n",
       "  <tbody>\n",
       "    <tr>\n",
       "      <th>0</th>\n",
       "      <td>189.9</td>\n",
       "      <td>1</td>\n",
       "      <td>3.333333</td>\n",
       "    </tr>\n",
       "    <tr>\n",
       "      <th>1</th>\n",
       "      <td>191.4</td>\n",
       "      <td>1</td>\n",
       "      <td>3.333333</td>\n",
       "    </tr>\n",
       "    <tr>\n",
       "      <th>2</th>\n",
       "      <td>192.7</td>\n",
       "      <td>1</td>\n",
       "      <td>3.333333</td>\n",
       "    </tr>\n",
       "    <tr>\n",
       "      <th>3</th>\n",
       "      <td>193.1</td>\n",
       "      <td>1</td>\n",
       "      <td>3.333333</td>\n",
       "    </tr>\n",
       "    <tr>\n",
       "      <th>4</th>\n",
       "      <td>194.1</td>\n",
       "      <td>1</td>\n",
       "      <td>3.333333</td>\n",
       "    </tr>\n",
       "  </tbody>\n",
       "</table>\n",
       "</div>"
      ],
      "text/plain": [
       "   Sample Mean  Frequency  Relative Frequency\n",
       "0        189.9          1            3.333333\n",
       "1        191.4          1            3.333333\n",
       "2        192.7          1            3.333333\n",
       "3        193.1          1            3.333333\n",
       "4        194.1          1            3.333333"
      ]
     },
     "execution_count": 108,
     "metadata": {},
     "output_type": "execute_result"
    }
   ],
   "source": [
    "df2_g=df2_g.groupby('Sample Mean').count()\n",
    "df2_g.rename(columns={'Sample Variance':'Frequency','Sample SD':'Relative Frequency'},inplace=True)\n",
    "df2_g['Relative Frequency']=(df2_g['Frequency']/(df2_g[\"Frequency\"].sum()))*100\n",
    "df2_g.reset_index(inplace=True)\n",
    "df2_g.head()"
   ]
  },
  {
   "cell_type": "code",
   "execution_count": 121,
   "metadata": {},
   "outputs": [
    {
     "data": {
      "text/plain": [
       "<Figure size 864x432 with 0 Axes>"
      ]
     },
     "metadata": {},
     "output_type": "display_data"
    },
    {
     "data": {
      "image/png": "[encoded data removed]",
      "text/plain": [
       "<Figure size 864x432 with 1 Axes>"
      ]
     },
     "metadata": {
      "needs_background": "light"
     },
     "output_type": "display_data"
    }
   ],
   "source": [
    "def to_percent(y, position):\n",
    "    s = str(y)\n",
    "\n",
    "    if matplotlib.rcParams['text.usetex'] is True:\n",
    "        return s + r'$\\%$'\n",
    "    else:\n",
    "        return s + '%'\n",
    "\n",
    "kde = stats.gaussian_kde(df2_g['Sample Mean'])\n",
    "\n",
    "plt.figure(figsize=(12,6))\n",
    "fig, ax = plt.subplots(figsize=(12,6))\n",
    "ax.hist(df2_g['Sample Mean'],density=True,bins=20)\n",
    "ax.plot(df2_g['Sample Mean'], kde(df2_g['Sample Mean']))\n",
    "\n",
    "formatter = FuncFormatter(to_percent)\n",
    "plt.gca().yaxis.set_major_formatter(formatter)\n",
    "\n",
    "plt.ylabel('Probabilities')\n",
    "plt.grid(axis='y',alpha=0.5)"
   ]
  }
 ],
 "metadata": {
  "kernelspec": {
   "display_name": "Python 3",
   "language": "python",
   "name": "python3"
  },
  "language_info": {
   "codemirror_mode": {
    "name": "ipython",
    "version": 3
   },
   "file_extension": ".py",
   "mimetype": "text/x-python",
   "name": "python",
   "nbconvert_exporter": "python",
   "pygments_lexer": "ipython3",
   "version": "3.7.4"
  }
 },
 "nbformat": 4,
 "nbformat_minor": 2
}
