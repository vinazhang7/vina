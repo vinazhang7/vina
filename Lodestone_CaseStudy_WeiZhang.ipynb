{
 "cells": [
  {
   "cell_type": "code",
   "execution_count": 1,
   "metadata": {},
   "outputs": [],
   "source": [
    "import numpy as np\n",
    "import pandas as pd\n",
    "import json\n",
    "import seaborn as sns\n",
    "\n",
    "sns.set(style=\"whitegrid\",\n",
    "       rc={'figure.figsize':(16,8)})"
   ]
  },
  {
   "cell_type": "code",
   "execution_count": 2,
   "metadata": {},
   "outputs": [],
   "source": [
    "sa = pd.read_csv('/Users/Vina/Downloads/caseStudy/SheetA.csv')\n",
    "sb = pd.read_csv('/Users/Vina/Downloads/caseStudy/SheetB.csv')\n",
    "sc = pd.read_csv('/Users/Vina/Downloads/caseStudy/SheetC.csv')"
   ]
  },
  {
   "cell_type": "code",
   "execution_count": 3,
   "metadata": {},
   "outputs": [
    {
     "data": {
      "text/html": [
       "<div>\n",
       "<style scoped>\n",
       "    .dataframe tbody tr th:only-of-type {\n",
       "        vertical-align: middle;\n",
       "    }\n",
       "\n",
       "    .dataframe tbody tr th {\n",
       "        vertical-align: top;\n",
       "    }\n",
       "\n",
       "    .dataframe thead th {\n",
       "        text-align: right;\n",
       "    }\n",
       "</style>\n",
       "<table border=\"1\" class=\"dataframe\">\n",
       "  <thead>\n",
       "    <tr style=\"text-align: right;\">\n",
       "      <th></th>\n",
       "      <th>grill_type</th>\n",
       "      <th>pre_heat_time</th>\n",
       "      <th>fuel_cost_per_meal</th>\n",
       "      <th>market_share</th>\n",
       "      <th>easiness_to_use</th>\n",
       "      <th>life_span_year</th>\n",
       "      <th>initial_investment</th>\n",
       "    </tr>\n",
       "  </thead>\n",
       "  <tbody>\n",
       "    <tr>\n",
       "      <th>0</th>\n",
       "      <td>Charcoal</td>\n",
       "      <td>1200</td>\n",
       "      <td>2.00</td>\n",
       "      <td>0.44</td>\n",
       "      <td>-1</td>\n",
       "      <td>3</td>\n",
       "      <td>91</td>\n",
       "    </tr>\n",
       "    <tr>\n",
       "      <th>1</th>\n",
       "      <td>Propane</td>\n",
       "      <td>480</td>\n",
       "      <td>1.55</td>\n",
       "      <td>0.64</td>\n",
       "      <td>2</td>\n",
       "      <td>3</td>\n",
       "      <td>139</td>\n",
       "    </tr>\n",
       "  </tbody>\n",
       "</table>\n",
       "</div>"
      ],
      "text/plain": [
       "  grill_type  pre_heat_time  fuel_cost_per_meal  market_share  \\\n",
       "0   Charcoal           1200                2.00          0.44   \n",
       "1    Propane            480                1.55          0.64   \n",
       "\n",
       "   easiness_to_use  life_span_year  initial_investment  \n",
       "0               -1               3                  91  \n",
       "1                2               3                 139  "
      ]
     },
     "execution_count": 3,
     "metadata": {},
     "output_type": "execute_result"
    }
   ],
   "source": [
    "sa "
   ]
  },
  {
   "cell_type": "code",
   "execution_count": 4,
   "metadata": {},
   "outputs": [
    {
     "data": {
      "text/html": [
       "<div>\n",
       "<style scoped>\n",
       "    .dataframe tbody tr th:only-of-type {\n",
       "        vertical-align: middle;\n",
       "    }\n",
       "\n",
       "    .dataframe tbody tr th {\n",
       "        vertical-align: top;\n",
       "    }\n",
       "\n",
       "    .dataframe thead th {\n",
       "        text-align: right;\n",
       "    }\n",
       "</style>\n",
       "<table border=\"1\" class=\"dataframe\">\n",
       "  <thead>\n",
       "    <tr style=\"text-align: right;\">\n",
       "      <th></th>\n",
       "      <th>item_material</th>\n",
       "      <th>device_id</th>\n",
       "      <th>grill_type</th>\n",
       "      <th>user_satisfaction</th>\n",
       "      <th>fuel_cost</th>\n",
       "    </tr>\n",
       "  </thead>\n",
       "  <tbody>\n",
       "    <tr>\n",
       "      <th>0</th>\n",
       "      <td>Ground Beef Patty</td>\n",
       "      <td>1</td>\n",
       "      <td>Charcoal</td>\n",
       "      <td>-0.9</td>\n",
       "      <td>400.500</td>\n",
       "    </tr>\n",
       "    <tr>\n",
       "      <th>1</th>\n",
       "      <td>Ground Beef Patty</td>\n",
       "      <td>3</td>\n",
       "      <td>Charcoal</td>\n",
       "      <td>-1.3</td>\n",
       "      <td>399.600</td>\n",
       "    </tr>\n",
       "    <tr>\n",
       "      <th>2</th>\n",
       "      <td>Ground Beef Patty</td>\n",
       "      <td>5</td>\n",
       "      <td>Charcoal</td>\n",
       "      <td>-2.5</td>\n",
       "      <td>389.730</td>\n",
       "    </tr>\n",
       "    <tr>\n",
       "      <th>3</th>\n",
       "      <td>Ground Beef Patty</td>\n",
       "      <td>7</td>\n",
       "      <td>Charcoal</td>\n",
       "      <td>-1.7</td>\n",
       "      <td>402.399</td>\n",
       "    </tr>\n",
       "    <tr>\n",
       "      <th>4</th>\n",
       "      <td>Hotdog</td>\n",
       "      <td>1</td>\n",
       "      <td>Charcoal</td>\n",
       "      <td>-1.3</td>\n",
       "      <td>372.445</td>\n",
       "    </tr>\n",
       "  </tbody>\n",
       "</table>\n",
       "</div>"
      ],
      "text/plain": [
       "       item_material  device_id grill_type  user_satisfaction  fuel_cost\n",
       "0  Ground Beef Patty          1   Charcoal               -0.9    400.500\n",
       "1  Ground Beef Patty          3   Charcoal               -1.3    399.600\n",
       "2  Ground Beef Patty          5   Charcoal               -2.5    389.730\n",
       "3  Ground Beef Patty          7   Charcoal               -1.7    402.399\n",
       "4             Hotdog          1   Charcoal               -1.3    372.445"
      ]
     },
     "execution_count": 4,
     "metadata": {},
     "output_type": "execute_result"
    }
   ],
   "source": [
    "sb.head()"
   ]
  },
  {
   "cell_type": "code",
   "execution_count": 5,
   "metadata": {},
   "outputs": [
    {
     "data": {
      "text/html": [
       "<div>\n",
       "<style scoped>\n",
       "    .dataframe tbody tr th:only-of-type {\n",
       "        vertical-align: middle;\n",
       "    }\n",
       "\n",
       "    .dataframe tbody tr th {\n",
       "        vertical-align: top;\n",
       "    }\n",
       "\n",
       "    .dataframe thead th {\n",
       "        text-align: right;\n",
       "    }\n",
       "</style>\n",
       "<table border=\"1\" class=\"dataframe\">\n",
       "  <thead>\n",
       "    <tr style=\"text-align: right;\">\n",
       "      <th></th>\n",
       "      <th>sample_item_index</th>\n",
       "      <th>item_material</th>\n",
       "      <th>is_frozen</th>\n",
       "      <th>grill_type</th>\n",
       "      <th>thumbs_up_score</th>\n",
       "      <th>guess_grill_correct</th>\n",
       "    </tr>\n",
       "  </thead>\n",
       "  <tbody>\n",
       "    <tr>\n",
       "      <th>0</th>\n",
       "      <td>1</td>\n",
       "      <td>Veggie Patty</td>\n",
       "      <td>False</td>\n",
       "      <td>Propane</td>\n",
       "      <td>0.0</td>\n",
       "      <td>True</td>\n",
       "    </tr>\n",
       "    <tr>\n",
       "      <th>1</th>\n",
       "      <td>1</td>\n",
       "      <td>Hotdog</td>\n",
       "      <td>False</td>\n",
       "      <td>Propane</td>\n",
       "      <td>0.4</td>\n",
       "      <td>True</td>\n",
       "    </tr>\n",
       "    <tr>\n",
       "      <th>2</th>\n",
       "      <td>2</td>\n",
       "      <td>Veggie Patty</td>\n",
       "      <td>True</td>\n",
       "      <td>Propane</td>\n",
       "      <td>0.9</td>\n",
       "      <td>True</td>\n",
       "    </tr>\n",
       "    <tr>\n",
       "      <th>3</th>\n",
       "      <td>3</td>\n",
       "      <td>Veggie Patty</td>\n",
       "      <td>False</td>\n",
       "      <td>Propane</td>\n",
       "      <td>0.8</td>\n",
       "      <td>True</td>\n",
       "    </tr>\n",
       "    <tr>\n",
       "      <th>4</th>\n",
       "      <td>4</td>\n",
       "      <td>Veggie Patty</td>\n",
       "      <td>True</td>\n",
       "      <td>Propane</td>\n",
       "      <td>0.8</td>\n",
       "      <td>True</td>\n",
       "    </tr>\n",
       "  </tbody>\n",
       "</table>\n",
       "</div>"
      ],
      "text/plain": [
       "   sample_item_index item_material  is_frozen grill_type  thumbs_up_score  \\\n",
       "0                  1  Veggie Patty      False    Propane              0.0   \n",
       "1                  1        Hotdog      False    Propane              0.4   \n",
       "2                  2  Veggie Patty       True    Propane              0.9   \n",
       "3                  3  Veggie Patty      False    Propane              0.8   \n",
       "4                  4  Veggie Patty       True    Propane              0.8   \n",
       "\n",
       "   guess_grill_correct  \n",
       "0                 True  \n",
       "1                 True  \n",
       "2                 True  \n",
       "3                 True  \n",
       "4                 True  "
      ]
     },
     "execution_count": 5,
     "metadata": {},
     "output_type": "execute_result"
    }
   ],
   "source": [
    "sc.head()"
   ]
  },
  {
   "cell_type": "markdown",
   "metadata": {},
   "source": [
    "**1. Name each sheet/table so they are meaningful standalone.**"
   ]
  },
  {
   "cell_type": "code",
   "execution_count": 7,
   "metadata": {},
   "outputs": [],
   "source": [
    "grills = sa.copy()\n",
    "grill_test = sb.copy()\n",
    "grill_survey = sc.copy()"
   ]
  },
  {
   "cell_type": "markdown",
   "metadata": {},
   "source": [
    "**2. Which grill type is more fuel efficient based on sheet A?**"
   ]
  },
  {
   "cell_type": "code",
   "execution_count": 10,
   "metadata": {},
   "outputs": [
    {
     "data": {
      "text/html": [
       "<div>\n",
       "<style scoped>\n",
       "    .dataframe tbody tr th:only-of-type {\n",
       "        vertical-align: middle;\n",
       "    }\n",
       "\n",
       "    .dataframe tbody tr th {\n",
       "        vertical-align: top;\n",
       "    }\n",
       "\n",
       "    .dataframe thead th {\n",
       "        text-align: right;\n",
       "    }\n",
       "</style>\n",
       "<table border=\"1\" class=\"dataframe\">\n",
       "  <thead>\n",
       "    <tr style=\"text-align: right;\">\n",
       "      <th></th>\n",
       "      <th>grill_type</th>\n",
       "      <th>pre_heat_time</th>\n",
       "    </tr>\n",
       "  </thead>\n",
       "  <tbody>\n",
       "    <tr>\n",
       "      <th>0</th>\n",
       "      <td>Charcoal</td>\n",
       "      <td>1200</td>\n",
       "    </tr>\n",
       "    <tr>\n",
       "      <th>1</th>\n",
       "      <td>Propane</td>\n",
       "      <td>480</td>\n",
       "    </tr>\n",
       "  </tbody>\n",
       "</table>\n",
       "</div>"
      ],
      "text/plain": [
       "  grill_type  pre_heat_time\n",
       "0   Charcoal           1200\n",
       "1    Propane            480"
      ]
     },
     "execution_count": 10,
     "metadata": {},
     "output_type": "execute_result"
    }
   ],
   "source": [
    "grills[['grill_type','pre_heat_time']]"
   ]
  },
  {
   "cell_type": "markdown",
   "metadata": {},
   "source": [
    "**3. Which grill type has more market share?**"
   ]
  },
  {
   "cell_type": "code",
   "execution_count": 11,
   "metadata": {},
   "outputs": [
    {
     "data": {
      "text/html": [
       "<div>\n",
       "<style scoped>\n",
       "    .dataframe tbody tr th:only-of-type {\n",
       "        vertical-align: middle;\n",
       "    }\n",
       "\n",
       "    .dataframe tbody tr th {\n",
       "        vertical-align: top;\n",
       "    }\n",
       "\n",
       "    .dataframe thead th {\n",
       "        text-align: right;\n",
       "    }\n",
       "</style>\n",
       "<table border=\"1\" class=\"dataframe\">\n",
       "  <thead>\n",
       "    <tr style=\"text-align: right;\">\n",
       "      <th></th>\n",
       "      <th>grill_type</th>\n",
       "      <th>market_share</th>\n",
       "    </tr>\n",
       "  </thead>\n",
       "  <tbody>\n",
       "    <tr>\n",
       "      <th>0</th>\n",
       "      <td>Charcoal</td>\n",
       "      <td>0.44</td>\n",
       "    </tr>\n",
       "    <tr>\n",
       "      <th>1</th>\n",
       "      <td>Propane</td>\n",
       "      <td>0.64</td>\n",
       "    </tr>\n",
       "  </tbody>\n",
       "</table>\n",
       "</div>"
      ],
      "text/plain": [
       "  grill_type  market_share\n",
       "0   Charcoal          0.44\n",
       "1    Propane          0.64"
      ]
     },
     "execution_count": 11,
     "metadata": {},
     "output_type": "execute_result"
    }
   ],
   "source": [
    "grills[['grill_type','market_share']]"
   ]
  },
  {
   "cell_type": "markdown",
   "metadata": {},
   "source": [
    "**4. Based on the cookoff data which grill type cost more fuel on a long run?**"
   ]
  },
  {
   "cell_type": "code",
   "execution_count": 12,
   "metadata": {},
   "outputs": [],
   "source": [
    "gt_df = grill_test.groupby(['grill_type', 'item_material']).mean()[['fuel_cost']]\n",
    "gt_df.reset_index(inplace=True)"
   ]
  },
  {
   "cell_type": "code",
   "execution_count": 13,
   "metadata": {},
   "outputs": [
    {
     "data": {
      "text/html": [
       "<div>\n",
       "<style scoped>\n",
       "    .dataframe tbody tr th:only-of-type {\n",
       "        vertical-align: middle;\n",
       "    }\n",
       "\n",
       "    .dataframe tbody tr th {\n",
       "        vertical-align: top;\n",
       "    }\n",
       "\n",
       "    .dataframe thead th {\n",
       "        text-align: right;\n",
       "    }\n",
       "</style>\n",
       "<table border=\"1\" class=\"dataframe\">\n",
       "  <thead>\n",
       "    <tr style=\"text-align: right;\">\n",
       "      <th></th>\n",
       "      <th>grill_type</th>\n",
       "      <th>item_material</th>\n",
       "      <th>fuel_cost</th>\n",
       "    </tr>\n",
       "  </thead>\n",
       "  <tbody>\n",
       "    <tr>\n",
       "      <th>0</th>\n",
       "      <td>Charcoal</td>\n",
       "      <td>Ground Beef Patty</td>\n",
       "      <td>398.05725</td>\n",
       "    </tr>\n",
       "    <tr>\n",
       "      <th>1</th>\n",
       "      <td>Charcoal</td>\n",
       "      <td>Hotdog</td>\n",
       "      <td>369.22000</td>\n",
       "    </tr>\n",
       "    <tr>\n",
       "      <th>2</th>\n",
       "      <td>Charcoal</td>\n",
       "      <td>Veggie Patty</td>\n",
       "      <td>375.39300</td>\n",
       "    </tr>\n",
       "    <tr>\n",
       "      <th>3</th>\n",
       "      <td>Propane</td>\n",
       "      <td>Ground Beef Patty</td>\n",
       "      <td>171.69375</td>\n",
       "    </tr>\n",
       "    <tr>\n",
       "      <th>4</th>\n",
       "      <td>Propane</td>\n",
       "      <td>Hotdog</td>\n",
       "      <td>151.48750</td>\n",
       "    </tr>\n",
       "    <tr>\n",
       "      <th>5</th>\n",
       "      <td>Propane</td>\n",
       "      <td>Veggie Patty</td>\n",
       "      <td>151.14375</td>\n",
       "    </tr>\n",
       "  </tbody>\n",
       "</table>\n",
       "</div>"
      ],
      "text/plain": [
       "  grill_type      item_material  fuel_cost\n",
       "0   Charcoal  Ground Beef Patty  398.05725\n",
       "1   Charcoal             Hotdog  369.22000\n",
       "2   Charcoal       Veggie Patty  375.39300\n",
       "3    Propane  Ground Beef Patty  171.69375\n",
       "4    Propane             Hotdog  151.48750\n",
       "5    Propane       Veggie Patty  151.14375"
      ]
     },
     "execution_count": 13,
     "metadata": {},
     "output_type": "execute_result"
    }
   ],
   "source": [
    "gt_df"
   ]
  },
  {
   "cell_type": "code",
   "execution_count": 14,
   "metadata": {
    "scrolled": false
   },
   "outputs": [
    {
     "data": {
      "image/png": "[encoded data removed]",
      "text/plain": [
       "<Figure size 1152x576 with 1 Axes>"
      ]
     },
     "metadata": {},
     "output_type": "display_data"
    }
   ],
   "source": [
    "ax = sns.barplot(x='item_material', y='fuel_cost', hue='grill_type', data=gt_df, palette='Set2')"
   ]
  },
  {
   "cell_type": "markdown",
   "metadata": {},
   "source": [
    "**5. Considering that the average American grill owner buys a new grill every three years, which grill type would cost more based on the fuel cost and initial investment?**"
   ]
  },
  {
   "cell_type": "code",
   "execution_count": 15,
   "metadata": {},
   "outputs": [
    {
     "data": {
      "text/html": [
       "<div>\n",
       "<style scoped>\n",
       "    .dataframe tbody tr th:only-of-type {\n",
       "        vertical-align: middle;\n",
       "    }\n",
       "\n",
       "    .dataframe tbody tr th {\n",
       "        vertical-align: top;\n",
       "    }\n",
       "\n",
       "    .dataframe thead th {\n",
       "        text-align: right;\n",
       "    }\n",
       "</style>\n",
       "<table border=\"1\" class=\"dataframe\">\n",
       "  <thead>\n",
       "    <tr style=\"text-align: right;\">\n",
       "      <th></th>\n",
       "      <th>grill_type</th>\n",
       "      <th>fuel_cost_per_meal</th>\n",
       "      <th>initial_investment</th>\n",
       "    </tr>\n",
       "  </thead>\n",
       "  <tbody>\n",
       "    <tr>\n",
       "      <th>0</th>\n",
       "      <td>Charcoal</td>\n",
       "      <td>2.00</td>\n",
       "      <td>91</td>\n",
       "    </tr>\n",
       "    <tr>\n",
       "      <th>1</th>\n",
       "      <td>Propane</td>\n",
       "      <td>1.55</td>\n",
       "      <td>139</td>\n",
       "    </tr>\n",
       "  </tbody>\n",
       "</table>\n",
       "</div>"
      ],
      "text/plain": [
       "  grill_type  fuel_cost_per_meal  initial_investment\n",
       "0   Charcoal                2.00                  91\n",
       "1    Propane                1.55                 139"
      ]
     },
     "execution_count": 15,
     "metadata": {},
     "output_type": "execute_result"
    }
   ],
   "source": [
    "grills[['grill_type','fuel_cost_per_meal','initial_investment']]"
   ]
  },
  {
   "cell_type": "code",
   "execution_count": 16,
   "metadata": {},
   "outputs": [
    {
     "data": {
      "text/html": [
       "<div>\n",
       "<style scoped>\n",
       "    .dataframe tbody tr th:only-of-type {\n",
       "        vertical-align: middle;\n",
       "    }\n",
       "\n",
       "    .dataframe tbody tr th {\n",
       "        vertical-align: top;\n",
       "    }\n",
       "\n",
       "    .dataframe thead th {\n",
       "        text-align: right;\n",
       "    }\n",
       "</style>\n",
       "<table border=\"1\" class=\"dataframe\">\n",
       "  <thead>\n",
       "    <tr style=\"text-align: right;\">\n",
       "      <th></th>\n",
       "      <th>grill_type</th>\n",
       "      <th>total_cost_per_three_years</th>\n",
       "    </tr>\n",
       "  </thead>\n",
       "  <tbody>\n",
       "    <tr>\n",
       "      <th>0</th>\n",
       "      <td>Charcoal</td>\n",
       "      <td>123.0</td>\n",
       "    </tr>\n",
       "    <tr>\n",
       "      <th>1</th>\n",
       "      <td>Propane</td>\n",
       "      <td>163.8</td>\n",
       "    </tr>\n",
       "  </tbody>\n",
       "</table>\n",
       "</div>"
      ],
      "text/plain": [
       "  grill_type  total_cost_per_three_years\n",
       "0   Charcoal                       123.0\n",
       "1    Propane                       163.8"
      ]
     },
     "execution_count": 16,
     "metadata": {},
     "output_type": "execute_result"
    }
   ],
   "source": [
    "#uses_per_summer = 16\n",
    "grill_cost = pd.DataFrame({'grill_type':['Charcoal','Propane'],\n",
    "                           'total_cost_per_three_years':[2*16+91, 1.55*16+139]})\n",
    "grill_cost"
   ]
  },
  {
   "cell_type": "markdown",
   "metadata": {},
   "source": [
    "**6. Which grill type is easier to use based on the user satisfaction score? Based on data, which grill is preferred? What factors might play a role?**"
   ]
  },
  {
   "cell_type": "code",
   "execution_count": 17,
   "metadata": {},
   "outputs": [
    {
     "data": {
      "image/png": "[encoded data removed]",
      "text/plain": [
       "<Figure size 1152x576 with 1 Axes>"
      ]
     },
     "metadata": {},
     "output_type": "display_data"
    }
   ],
   "source": [
    "ax = sns.boxplot(x='grill_type', y='user_satisfaction', data=grill_test, palette='Set2')"
   ]
  },
  {
   "cell_type": "code",
   "execution_count": 18,
   "metadata": {},
   "outputs": [
    {
     "data": {
      "image/png": "[encoded data removed]",
      "text/plain": [
       "<Figure size 1152x576 with 1 Axes>"
      ]
     },
     "metadata": {},
     "output_type": "display_data"
    }
   ],
   "source": [
    "ax = sns.boxplot(x='item_material', y='user_satisfaction', data=grill_test, hue = 'grill_type', palette='Set2')"
   ]
  },
  {
   "cell_type": "markdown",
   "metadata": {},
   "source": [
    "**7. Please generate an aggregated dataset to present your conclusions.**"
   ]
  },
  {
   "cell_type": "code",
   "execution_count": 20,
   "metadata": {},
   "outputs": [],
   "source": [
    "df_1 = grills[['grill_type', 'market_share',]]\n",
    "df_2 = grill_test.groupby(['grill_type', 'item_material']).mean()[['user_satisfaction','fuel_cost']]\n",
    "df_3 = grill_survey.groupby(['grill_type', 'item_material'])\\\n",
    "       .mean()[['thumbs_up_score']]"
   ]
  },
  {
   "cell_type": "code",
   "execution_count": 21,
   "metadata": {},
   "outputs": [],
   "source": [
    "grill_agg = df_2.join(df_3)\n",
    "grill_agg = grill_agg.join(df_1.set_index(['grill_type']))\n",
    "grill_agg = grill_agg.join(grill_cost.set_index(['grill_type']))"
   ]
  },
  {
   "cell_type": "code",
   "execution_count": 22,
   "metadata": {},
   "outputs": [
    {
     "data": {
      "text/plain": [
       "Index(['user_satisfaction', 'fuel_cost', 'thumbs_up_score', 'market_share',\n",
       "       'total_cost_per_three_years'],\n",
       "      dtype='object')"
      ]
     },
     "execution_count": 22,
     "metadata": {},
     "output_type": "execute_result"
    }
   ],
   "source": [
    "grill_agg.columns"
   ]
  },
  {
   "cell_type": "code",
   "execution_count": 23,
   "metadata": {},
   "outputs": [],
   "source": [
    "grill_agg.rename(columns={'user_satisfaction':'user_satisfaction(AVE)','fuel_cost':'fuel_cost(AVE)',\n",
    "                          'thumbs_up_score':'thumbs_up_score(AVE)',\n",
    "                          'total_cost_per_three_years':'total_cost(/3 years)'},inplace=True)"
   ]
  },
  {
   "cell_type": "code",
   "execution_count": 24,
   "metadata": {},
   "outputs": [
    {
     "data": {
      "text/html": [
       "<div>\n",
       "<style scoped>\n",
       "    .dataframe tbody tr th:only-of-type {\n",
       "        vertical-align: middle;\n",
       "    }\n",
       "\n",
       "    .dataframe tbody tr th {\n",
       "        vertical-align: top;\n",
       "    }\n",
       "\n",
       "    .dataframe thead th {\n",
       "        text-align: right;\n",
       "    }\n",
       "</style>\n",
       "<table border=\"1\" class=\"dataframe\">\n",
       "  <thead>\n",
       "    <tr style=\"text-align: right;\">\n",
       "      <th></th>\n",
       "      <th></th>\n",
       "      <th>market_share</th>\n",
       "      <th>total_cost(/3 years)</th>\n",
       "      <th>fuel_cost(AVE)</th>\n",
       "      <th>user_satisfaction(AVE)</th>\n",
       "      <th>thumbs_up_score(AVE)</th>\n",
       "    </tr>\n",
       "    <tr>\n",
       "      <th>grill_type</th>\n",
       "      <th>item_material</th>\n",
       "      <th></th>\n",
       "      <th></th>\n",
       "      <th></th>\n",
       "      <th></th>\n",
       "      <th></th>\n",
       "    </tr>\n",
       "  </thead>\n",
       "  <tbody>\n",
       "    <tr>\n",
       "      <th rowspan=\"3\" valign=\"top\">Charcoal</th>\n",
       "      <th>Ground Beef Patty</th>\n",
       "      <td>0.44</td>\n",
       "      <td>123.0</td>\n",
       "      <td>398.05725</td>\n",
       "      <td>-1.600</td>\n",
       "      <td>0.179167</td>\n",
       "    </tr>\n",
       "    <tr>\n",
       "      <th>Hotdog</th>\n",
       "      <td>0.44</td>\n",
       "      <td>123.0</td>\n",
       "      <td>369.22000</td>\n",
       "      <td>-1.525</td>\n",
       "      <td>5.194167</td>\n",
       "    </tr>\n",
       "    <tr>\n",
       "      <th>Veggie Patty</th>\n",
       "      <td>0.44</td>\n",
       "      <td>123.0</td>\n",
       "      <td>375.39300</td>\n",
       "      <td>-1.325</td>\n",
       "      <td>0.160833</td>\n",
       "    </tr>\n",
       "    <tr>\n",
       "      <th rowspan=\"3\" valign=\"top\">Propane</th>\n",
       "      <th>Ground Beef Patty</th>\n",
       "      <td>0.64</td>\n",
       "      <td>163.8</td>\n",
       "      <td>171.69375</td>\n",
       "      <td>2.150</td>\n",
       "      <td>5.586667</td>\n",
       "    </tr>\n",
       "    <tr>\n",
       "      <th>Hotdog</th>\n",
       "      <td>0.64</td>\n",
       "      <td>163.8</td>\n",
       "      <td>151.48750</td>\n",
       "      <td>1.550</td>\n",
       "      <td>0.549167</td>\n",
       "    </tr>\n",
       "    <tr>\n",
       "      <th>Veggie Patty</th>\n",
       "      <td>0.64</td>\n",
       "      <td>163.8</td>\n",
       "      <td>151.14375</td>\n",
       "      <td>1.550</td>\n",
       "      <td>0.538333</td>\n",
       "    </tr>\n",
       "  </tbody>\n",
       "</table>\n",
       "</div>"
      ],
      "text/plain": [
       "                              market_share  total_cost(/3 years)  \\\n",
       "grill_type item_material                                           \n",
       "Charcoal   Ground Beef Patty          0.44                 123.0   \n",
       "           Hotdog                     0.44                 123.0   \n",
       "           Veggie Patty               0.44                 123.0   \n",
       "Propane    Ground Beef Patty          0.64                 163.8   \n",
       "           Hotdog                     0.64                 163.8   \n",
       "           Veggie Patty               0.64                 163.8   \n",
       "\n",
       "                              fuel_cost(AVE)  user_satisfaction(AVE)  \\\n",
       "grill_type item_material                                               \n",
       "Charcoal   Ground Beef Patty       398.05725                  -1.600   \n",
       "           Hotdog                  369.22000                  -1.525   \n",
       "           Veggie Patty            375.39300                  -1.325   \n",
       "Propane    Ground Beef Patty       171.69375                   2.150   \n",
       "           Hotdog                  151.48750                   1.550   \n",
       "           Veggie Patty            151.14375                   1.550   \n",
       "\n",
       "                              thumbs_up_score(AVE)  \n",
       "grill_type item_material                            \n",
       "Charcoal   Ground Beef Patty              0.179167  \n",
       "           Hotdog                         5.194167  \n",
       "           Veggie Patty                   0.160833  \n",
       "Propane    Ground Beef Patty              5.586667  \n",
       "           Hotdog                         0.549167  \n",
       "           Veggie Patty                   0.538333  "
      ]
     },
     "execution_count": 24,
     "metadata": {},
     "output_type": "execute_result"
    }
   ],
   "source": [
    "grill_agg = grill_agg[['market_share','total_cost(/3 years)','fuel_cost(AVE)',\n",
    "                       'user_satisfaction(AVE)','thumbs_up_score(AVE)']]\n",
    "\n",
    "grill_agg"
   ]
  },
  {
   "cell_type": "markdown",
   "metadata": {},
   "source": [
    "**8. Are your recommendations to the manufacturer different to recommendations you’d make to the user?**"
   ]
  },
  {
   "cell_type": "markdown",
   "metadata": {},
   "source": [
    "obeserve the guess rate."
   ]
  },
  {
   "cell_type": "code",
   "execution_count": 25,
   "metadata": {},
   "outputs": [],
   "source": [
    "correct_rate = grill_survey.groupby(['item_material', 'grill_type','guess_grill_correct']).count()[['is_frozen']]\n",
    "correct_rate.rename(columns={'is_frozen':'count'},inplace=True)"
   ]
  },
  {
   "cell_type": "code",
   "execution_count": 26,
   "metadata": {},
   "outputs": [],
   "source": [
    "correct_rate['rate']= correct_rate['count'].apply(lambda x: round(x/120,2))"
   ]
  },
  {
   "cell_type": "code",
   "execution_count": 27,
   "metadata": {},
   "outputs": [
    {
     "data": {
      "text/html": [
       "<div>\n",
       "<style scoped>\n",
       "    .dataframe tbody tr th:only-of-type {\n",
       "        vertical-align: middle;\n",
       "    }\n",
       "\n",
       "    .dataframe tbody tr th {\n",
       "        vertical-align: top;\n",
       "    }\n",
       "\n",
       "    .dataframe thead th {\n",
       "        text-align: right;\n",
       "    }\n",
       "</style>\n",
       "<table border=\"1\" class=\"dataframe\">\n",
       "  <thead>\n",
       "    <tr style=\"text-align: right;\">\n",
       "      <th></th>\n",
       "      <th></th>\n",
       "      <th></th>\n",
       "      <th>count</th>\n",
       "      <th>rate</th>\n",
       "    </tr>\n",
       "    <tr>\n",
       "      <th>item_material</th>\n",
       "      <th>grill_type</th>\n",
       "      <th>guess_grill_correct</th>\n",
       "      <th></th>\n",
       "      <th></th>\n",
       "    </tr>\n",
       "  </thead>\n",
       "  <tbody>\n",
       "    <tr>\n",
       "      <th rowspan=\"4\" valign=\"top\">Ground Beef Patty</th>\n",
       "      <th rowspan=\"2\" valign=\"top\">Charcoal</th>\n",
       "      <th>False</th>\n",
       "      <td>18</td>\n",
       "      <td>0.15</td>\n",
       "    </tr>\n",
       "    <tr>\n",
       "      <th>True</th>\n",
       "      <td>102</td>\n",
       "      <td>0.85</td>\n",
       "    </tr>\n",
       "    <tr>\n",
       "      <th rowspan=\"2\" valign=\"top\">Propane</th>\n",
       "      <th>False</th>\n",
       "      <td>4</td>\n",
       "      <td>0.03</td>\n",
       "    </tr>\n",
       "    <tr>\n",
       "      <th>True</th>\n",
       "      <td>116</td>\n",
       "      <td>0.97</td>\n",
       "    </tr>\n",
       "    <tr>\n",
       "      <th rowspan=\"4\" valign=\"top\">Hotdog</th>\n",
       "      <th rowspan=\"2\" valign=\"top\">Charcoal</th>\n",
       "      <th>False</th>\n",
       "      <td>7</td>\n",
       "      <td>0.06</td>\n",
       "    </tr>\n",
       "    <tr>\n",
       "      <th>True</th>\n",
       "      <td>113</td>\n",
       "      <td>0.94</td>\n",
       "    </tr>\n",
       "    <tr>\n",
       "      <th rowspan=\"2\" valign=\"top\">Propane</th>\n",
       "      <th>False</th>\n",
       "      <td>21</td>\n",
       "      <td>0.17</td>\n",
       "    </tr>\n",
       "    <tr>\n",
       "      <th>True</th>\n",
       "      <td>99</td>\n",
       "      <td>0.82</td>\n",
       "    </tr>\n",
       "    <tr>\n",
       "      <th rowspan=\"4\" valign=\"top\">Veggie Patty</th>\n",
       "      <th rowspan=\"2\" valign=\"top\">Charcoal</th>\n",
       "      <th>False</th>\n",
       "      <td>13</td>\n",
       "      <td>0.11</td>\n",
       "    </tr>\n",
       "    <tr>\n",
       "      <th>True</th>\n",
       "      <td>107</td>\n",
       "      <td>0.89</td>\n",
       "    </tr>\n",
       "    <tr>\n",
       "      <th rowspan=\"2\" valign=\"top\">Propane</th>\n",
       "      <th>False</th>\n",
       "      <td>14</td>\n",
       "      <td>0.12</td>\n",
       "    </tr>\n",
       "    <tr>\n",
       "      <th>True</th>\n",
       "      <td>106</td>\n",
       "      <td>0.88</td>\n",
       "    </tr>\n",
       "  </tbody>\n",
       "</table>\n",
       "</div>"
      ],
      "text/plain": [
       "                                                  count  rate\n",
       "item_material     grill_type guess_grill_correct             \n",
       "Ground Beef Patty Charcoal   False                   18  0.15\n",
       "                             True                   102  0.85\n",
       "                  Propane    False                    4  0.03\n",
       "                             True                   116  0.97\n",
       "Hotdog            Charcoal   False                    7  0.06\n",
       "                             True                   113  0.94\n",
       "                  Propane    False                   21  0.17\n",
       "                             True                    99  0.82\n",
       "Veggie Patty      Charcoal   False                   13  0.11\n",
       "                             True                   107  0.89\n",
       "                  Propane    False                   14  0.12\n",
       "                             True                   106  0.88"
      ]
     },
     "execution_count": 27,
     "metadata": {},
     "output_type": "execute_result"
    }
   ],
   "source": [
    "correct_rate"
   ]
  },
  {
   "cell_type": "markdown",
   "metadata": {},
   "source": [
    "user scores for different type of grills."
   ]
  },
  {
   "cell_type": "code",
   "execution_count": 28,
   "metadata": {},
   "outputs": [
    {
     "data": {
      "image/png": "[encoded data removed]",
      "text/plain": [
       "<Figure size 1152x576 with 1 Axes>"
      ]
     },
     "metadata": {},
     "output_type": "display_data"
    }
   ],
   "source": [
    "ax = sns.boxplot(x='item_material',y = 'thumbs_up_score', data=grill_survey, \n",
    "                 hue='grill_type', hue_order=['Charcoal','Propane'],palette='Set2')"
   ]
  },
  {
   "cell_type": "markdown",
   "metadata": {},
   "source": [
    "**9. (Bonus) Transform SheetC.json to SheetC.csv**"
   ]
  },
  {
   "cell_type": "code",
   "execution_count": 29,
   "metadata": {},
   "outputs": [],
   "source": [
    "with open('/Users/Vina/Downloads/caseStudy/SheetC.json','r') as f:\n",
    "    file_data = json.load(f)\n",
    "    \n",
    "dict_data = eval(file_data[0]['test_result'])"
   ]
  },
  {
   "cell_type": "code",
   "execution_count": 30,
   "metadata": {},
   "outputs": [],
   "source": [
    "sample_item_index=[]\n",
    "item_material=[]\n",
    "is_frozen=[]\n",
    "grill_type=[]\n",
    "thumbs_up_score=[]\n",
    "guess_grill_correct=[]"
   ]
  },
  {
   "cell_type": "code",
   "execution_count": 31,
   "metadata": {},
   "outputs": [],
   "source": [
    "count = 1\n",
    "while count<=720:\n",
    "    item = dict_data[str(count)]\n",
    "    \n",
    "    grill_type.append(item['meta_data']['grill_type'])\n",
    "    is_frozen.append(item['meta_data']['is_frozen'].capitalize())\n",
    "    item_material.append(item['meta_data']['item_material'])\n",
    "    \n",
    "    sample_item_index.append(item['sample_item_index'])\n",
    "    \n",
    "    guess_grill_correct.append(item['survey_result']['guess_grill_correct'].capitalize())\n",
    "    thumbs_up_score.append(float(item['survey_result']['thumbs_up_score']))\n",
    "    \n",
    "    count+=1\n",
    "    "
   ]
  },
  {
   "cell_type": "code",
   "execution_count": 32,
   "metadata": {},
   "outputs": [
    {
     "data": {
      "text/html": [
       "<div>\n",
       "<style scoped>\n",
       "    .dataframe tbody tr th:only-of-type {\n",
       "        vertical-align: middle;\n",
       "    }\n",
       "\n",
       "    .dataframe tbody tr th {\n",
       "        vertical-align: top;\n",
       "    }\n",
       "\n",
       "    .dataframe thead th {\n",
       "        text-align: right;\n",
       "    }\n",
       "</style>\n",
       "<table border=\"1\" class=\"dataframe\">\n",
       "  <thead>\n",
       "    <tr style=\"text-align: right;\">\n",
       "      <th></th>\n",
       "      <th>sample_item_index</th>\n",
       "      <th>item_material</th>\n",
       "      <th>is_frozen</th>\n",
       "      <th>grill_type</th>\n",
       "      <th>thumbs_up_score</th>\n",
       "      <th>guess_grill_correct</th>\n",
       "    </tr>\n",
       "  </thead>\n",
       "  <tbody>\n",
       "    <tr>\n",
       "      <th>0</th>\n",
       "      <td>1</td>\n",
       "      <td>Hotdog</td>\n",
       "      <td>False</td>\n",
       "      <td>Propane</td>\n",
       "      <td>0.4</td>\n",
       "      <td>True</td>\n",
       "    </tr>\n",
       "    <tr>\n",
       "      <th>1</th>\n",
       "      <td>2</td>\n",
       "      <td>Hotdog</td>\n",
       "      <td>True</td>\n",
       "      <td>Propane</td>\n",
       "      <td>0.8</td>\n",
       "      <td>True</td>\n",
       "    </tr>\n",
       "    <tr>\n",
       "      <th>2</th>\n",
       "      <td>3</td>\n",
       "      <td>Hotdog</td>\n",
       "      <td>False</td>\n",
       "      <td>Propane</td>\n",
       "      <td>0.6</td>\n",
       "      <td>True</td>\n",
       "    </tr>\n",
       "    <tr>\n",
       "      <th>3</th>\n",
       "      <td>4</td>\n",
       "      <td>Hotdog</td>\n",
       "      <td>True</td>\n",
       "      <td>Propane</td>\n",
       "      <td>0.0</td>\n",
       "      <td>False</td>\n",
       "    </tr>\n",
       "    <tr>\n",
       "      <th>4</th>\n",
       "      <td>5</td>\n",
       "      <td>Hotdog</td>\n",
       "      <td>False</td>\n",
       "      <td>Propane</td>\n",
       "      <td>0.2</td>\n",
       "      <td>False</td>\n",
       "    </tr>\n",
       "    <tr>\n",
       "      <th>5</th>\n",
       "      <td>6</td>\n",
       "      <td>Hotdog</td>\n",
       "      <td>True</td>\n",
       "      <td>Propane</td>\n",
       "      <td>0.4</td>\n",
       "      <td>True</td>\n",
       "    </tr>\n",
       "    <tr>\n",
       "      <th>6</th>\n",
       "      <td>7</td>\n",
       "      <td>Hotdog</td>\n",
       "      <td>False</td>\n",
       "      <td>Propane</td>\n",
       "      <td>0.3</td>\n",
       "      <td>True</td>\n",
       "    </tr>\n",
       "    <tr>\n",
       "      <th>7</th>\n",
       "      <td>8</td>\n",
       "      <td>Hotdog</td>\n",
       "      <td>True</td>\n",
       "      <td>Propane</td>\n",
       "      <td>0.8</td>\n",
       "      <td>True</td>\n",
       "    </tr>\n",
       "    <tr>\n",
       "      <th>8</th>\n",
       "      <td>9</td>\n",
       "      <td>Hotdog</td>\n",
       "      <td>False</td>\n",
       "      <td>Propane</td>\n",
       "      <td>0.7</td>\n",
       "      <td>False</td>\n",
       "    </tr>\n",
       "    <tr>\n",
       "      <th>9</th>\n",
       "      <td>10</td>\n",
       "      <td>Hotdog</td>\n",
       "      <td>True</td>\n",
       "      <td>Propane</td>\n",
       "      <td>1.0</td>\n",
       "      <td>True</td>\n",
       "    </tr>\n",
       "  </tbody>\n",
       "</table>\n",
       "</div>"
      ],
      "text/plain": [
       "   sample_item_index item_material is_frozen grill_type  thumbs_up_score  \\\n",
       "0                  1        Hotdog     False    Propane              0.4   \n",
       "1                  2        Hotdog      True    Propane              0.8   \n",
       "2                  3        Hotdog     False    Propane              0.6   \n",
       "3                  4        Hotdog      True    Propane              0.0   \n",
       "4                  5        Hotdog     False    Propane              0.2   \n",
       "5                  6        Hotdog      True    Propane              0.4   \n",
       "6                  7        Hotdog     False    Propane              0.3   \n",
       "7                  8        Hotdog      True    Propane              0.8   \n",
       "8                  9        Hotdog     False    Propane              0.7   \n",
       "9                 10        Hotdog      True    Propane              1.0   \n",
       "\n",
       "  guess_grill_correct  \n",
       "0                True  \n",
       "1                True  \n",
       "2                True  \n",
       "3               False  \n",
       "4               False  \n",
       "5                True  \n",
       "6                True  \n",
       "7                True  \n",
       "8               False  \n",
       "9                True  "
      ]
     },
     "execution_count": 32,
     "metadata": {},
     "output_type": "execute_result"
    }
   ],
   "source": [
    "grill_survey_1 = pd.DataFrame({'sample_item_index':sample_item_index,\n",
    "                               'item_material':item_material,\n",
    "                               'is_frozen':is_frozen,\n",
    "                               'grill_type':grill_type,\n",
    "                               'thumbs_up_score':thumbs_up_score,\n",
    "                               'guess_grill_correct':guess_grill_correct}) \n",
    "\n",
    "grill_survey_1.head(10)"
   ]
  },
  {
   "cell_type": "markdown",
   "metadata": {},
   "source": [
    "verify the dataset."
   ]
  },
  {
   "cell_type": "code",
   "execution_count": 33,
   "metadata": {},
   "outputs": [
    {
     "data": {
      "text/html": [
       "<div>\n",
       "<style scoped>\n",
       "    .dataframe tbody tr th:only-of-type {\n",
       "        vertical-align: middle;\n",
       "    }\n",
       "\n",
       "    .dataframe tbody tr th {\n",
       "        vertical-align: top;\n",
       "    }\n",
       "\n",
       "    .dataframe thead th {\n",
       "        text-align: right;\n",
       "    }\n",
       "</style>\n",
       "<table border=\"1\" class=\"dataframe\">\n",
       "  <thead>\n",
       "    <tr style=\"text-align: right;\">\n",
       "      <th></th>\n",
       "      <th>sample_item_index</th>\n",
       "      <th>item_material</th>\n",
       "      <th>is_frozen</th>\n",
       "      <th>grill_type</th>\n",
       "      <th>thumbs_up_score</th>\n",
       "      <th>guess_grill_correct</th>\n",
       "    </tr>\n",
       "  </thead>\n",
       "  <tbody>\n",
       "    <tr>\n",
       "      <th>240</th>\n",
       "      <td>1</td>\n",
       "      <td>Veggie Patty</td>\n",
       "      <td>False</td>\n",
       "      <td>Propane</td>\n",
       "      <td>0.0</td>\n",
       "      <td>True</td>\n",
       "    </tr>\n",
       "    <tr>\n",
       "      <th>270</th>\n",
       "      <td>1</td>\n",
       "      <td>Veggie Patty</td>\n",
       "      <td>False</td>\n",
       "      <td>Propane</td>\n",
       "      <td>0.8</td>\n",
       "      <td>True</td>\n",
       "    </tr>\n",
       "    <tr>\n",
       "      <th>300</th>\n",
       "      <td>1</td>\n",
       "      <td>Veggie Patty</td>\n",
       "      <td>False</td>\n",
       "      <td>Propane</td>\n",
       "      <td>0.3</td>\n",
       "      <td>True</td>\n",
       "    </tr>\n",
       "    <tr>\n",
       "      <th>330</th>\n",
       "      <td>1</td>\n",
       "      <td>Veggie Patty</td>\n",
       "      <td>False</td>\n",
       "      <td>Propane</td>\n",
       "      <td>1.1</td>\n",
       "      <td>True</td>\n",
       "    </tr>\n",
       "    <tr>\n",
       "      <th>360</th>\n",
       "      <td>1</td>\n",
       "      <td>Veggie Patty</td>\n",
       "      <td>False</td>\n",
       "      <td>Charcoal</td>\n",
       "      <td>0.3</td>\n",
       "      <td>True</td>\n",
       "    </tr>\n",
       "    <tr>\n",
       "      <th>390</th>\n",
       "      <td>1</td>\n",
       "      <td>Veggie Patty</td>\n",
       "      <td>False</td>\n",
       "      <td>Charcoal</td>\n",
       "      <td>0.4</td>\n",
       "      <td>True</td>\n",
       "    </tr>\n",
       "    <tr>\n",
       "      <th>420</th>\n",
       "      <td>1</td>\n",
       "      <td>Veggie Patty</td>\n",
       "      <td>False</td>\n",
       "      <td>Charcoal</td>\n",
       "      <td>0.1</td>\n",
       "      <td>True</td>\n",
       "    </tr>\n",
       "    <tr>\n",
       "      <th>450</th>\n",
       "      <td>1</td>\n",
       "      <td>Veggie Patty</td>\n",
       "      <td>False</td>\n",
       "      <td>Charcoal</td>\n",
       "      <td>0.2</td>\n",
       "      <td>True</td>\n",
       "    </tr>\n",
       "  </tbody>\n",
       "</table>\n",
       "</div>"
      ],
      "text/plain": [
       "     sample_item_index item_material is_frozen grill_type  thumbs_up_score  \\\n",
       "240                  1  Veggie Patty     False    Propane              0.0   \n",
       "270                  1  Veggie Patty     False    Propane              0.8   \n",
       "300                  1  Veggie Patty     False    Propane              0.3   \n",
       "330                  1  Veggie Patty     False    Propane              1.1   \n",
       "360                  1  Veggie Patty     False   Charcoal              0.3   \n",
       "390                  1  Veggie Patty     False   Charcoal              0.4   \n",
       "420                  1  Veggie Patty     False   Charcoal              0.1   \n",
       "450                  1  Veggie Patty     False   Charcoal              0.2   \n",
       "\n",
       "    guess_grill_correct  \n",
       "240                True  \n",
       "270                True  \n",
       "300                True  \n",
       "330                True  \n",
       "360                True  \n",
       "390                True  \n",
       "420                True  \n",
       "450                True  "
      ]
     },
     "execution_count": 33,
     "metadata": {},
     "output_type": "execute_result"
    }
   ],
   "source": [
    "grill_survey_1[(grill_survey_1['item_material']=='Veggie Patty') & (grill_survey_1['sample_item_index']==1)]"
   ]
  },
  {
   "cell_type": "code",
   "execution_count": 34,
   "metadata": {},
   "outputs": [
    {
     "data": {
      "text/html": [
       "<div>\n",
       "<style scoped>\n",
       "    .dataframe tbody tr th:only-of-type {\n",
       "        vertical-align: middle;\n",
       "    }\n",
       "\n",
       "    .dataframe tbody tr th {\n",
       "        vertical-align: top;\n",
       "    }\n",
       "\n",
       "    .dataframe thead th {\n",
       "        text-align: right;\n",
       "    }\n",
       "</style>\n",
       "<table border=\"1\" class=\"dataframe\">\n",
       "  <thead>\n",
       "    <tr style=\"text-align: right;\">\n",
       "      <th></th>\n",
       "      <th>sample_item_index</th>\n",
       "      <th>item_material</th>\n",
       "      <th>is_frozen</th>\n",
       "      <th>grill_type</th>\n",
       "      <th>thumbs_up_score</th>\n",
       "      <th>guess_grill_correct</th>\n",
       "    </tr>\n",
       "  </thead>\n",
       "  <tbody>\n",
       "    <tr>\n",
       "      <th>0</th>\n",
       "      <td>1</td>\n",
       "      <td>Veggie Patty</td>\n",
       "      <td>False</td>\n",
       "      <td>Propane</td>\n",
       "      <td>0.0</td>\n",
       "      <td>True</td>\n",
       "    </tr>\n",
       "    <tr>\n",
       "      <th>43</th>\n",
       "      <td>1</td>\n",
       "      <td>Veggie Patty</td>\n",
       "      <td>False</td>\n",
       "      <td>Propane</td>\n",
       "      <td>1.1</td>\n",
       "      <td>True</td>\n",
       "    </tr>\n",
       "    <tr>\n",
       "      <th>73</th>\n",
       "      <td>1</td>\n",
       "      <td>Veggie Patty</td>\n",
       "      <td>False</td>\n",
       "      <td>Charcoal</td>\n",
       "      <td>0.3</td>\n",
       "      <td>True</td>\n",
       "    </tr>\n",
       "    <tr>\n",
       "      <th>109</th>\n",
       "      <td>1</td>\n",
       "      <td>Veggie Patty</td>\n",
       "      <td>False</td>\n",
       "      <td>Propane</td>\n",
       "      <td>0.3</td>\n",
       "      <td>True</td>\n",
       "    </tr>\n",
       "    <tr>\n",
       "      <th>127</th>\n",
       "      <td>1</td>\n",
       "      <td>Veggie Patty</td>\n",
       "      <td>False</td>\n",
       "      <td>Propane</td>\n",
       "      <td>0.8</td>\n",
       "      <td>True</td>\n",
       "    </tr>\n",
       "    <tr>\n",
       "      <th>153</th>\n",
       "      <td>1</td>\n",
       "      <td>Veggie Patty</td>\n",
       "      <td>False</td>\n",
       "      <td>Charcoal</td>\n",
       "      <td>0.4</td>\n",
       "      <td>True</td>\n",
       "    </tr>\n",
       "    <tr>\n",
       "      <th>183</th>\n",
       "      <td>1</td>\n",
       "      <td>Veggie Patty</td>\n",
       "      <td>False</td>\n",
       "      <td>Charcoal</td>\n",
       "      <td>0.1</td>\n",
       "      <td>True</td>\n",
       "    </tr>\n",
       "    <tr>\n",
       "      <th>213</th>\n",
       "      <td>1</td>\n",
       "      <td>Veggie Patty</td>\n",
       "      <td>False</td>\n",
       "      <td>Charcoal</td>\n",
       "      <td>0.2</td>\n",
       "      <td>True</td>\n",
       "    </tr>\n",
       "  </tbody>\n",
       "</table>\n",
       "</div>"
      ],
      "text/plain": [
       "     sample_item_index item_material  is_frozen grill_type  thumbs_up_score  \\\n",
       "0                    1  Veggie Patty      False    Propane              0.0   \n",
       "43                   1  Veggie Patty      False    Propane              1.1   \n",
       "73                   1  Veggie Patty      False   Charcoal              0.3   \n",
       "109                  1  Veggie Patty      False    Propane              0.3   \n",
       "127                  1  Veggie Patty      False    Propane              0.8   \n",
       "153                  1  Veggie Patty      False   Charcoal              0.4   \n",
       "183                  1  Veggie Patty      False   Charcoal              0.1   \n",
       "213                  1  Veggie Patty      False   Charcoal              0.2   \n",
       "\n",
       "     guess_grill_correct  \n",
       "0                   True  \n",
       "43                  True  \n",
       "73                  True  \n",
       "109                 True  \n",
       "127                 True  \n",
       "153                 True  \n",
       "183                 True  \n",
       "213                 True  "
      ]
     },
     "execution_count": 34,
     "metadata": {},
     "output_type": "execute_result"
    }
   ],
   "source": [
    "grill_survey[(grill_survey['item_material']=='Veggie Patty') & (grill_survey['sample_item_index']==1)]"
   ]
  }
 ],
 "metadata": {
  "kernelspec": {
   "display_name": "Python 3",
   "language": "python",
   "name": "python3"
  },
  "language_info": {
   "codemirror_mode": {
    "name": "ipython",
    "version": 3
   },
   "file_extension": ".py",
   "mimetype": "text/x-python",
   "name": "python",
   "nbconvert_exporter": "python",
   "pygments_lexer": "ipython3",
   "version": "3.8.3"
  }
 },
 "nbformat": 4,
 "nbformat_minor": 4
}
